{
 "cells": [
  {
   "cell_type": "code",
   "execution_count": 1,
   "metadata": {
    "collapsed": true
   },
   "outputs": [
    {
     "name": "stderr",
     "output_type": "stream",
     "text": [
      "Using TensorFlow backend.\n"
     ]
    }
   ],
   "source": [
    "import tensorflow as tf\n",
    "from tqdm import tqdm\n",
    "import keras\n",
    "from keras.models import load_model, Sequential,Model\n",
    "from keras.layers import Dense, Flatten, Softmax, Input, Reshape,Lambda,\\\n",
    "    Conv2D, MaxPool2D, Dropout,Concatenate,Embedding,BatchNormalization\n",
    "import matplotlib.pyplot as plt\n",
    "from sklearn.model_selection import train_test_split\n",
    "from sklearn.utils import shuffle\n",
    "import cv2\n",
    "import re\n",
    "import numpy as np\n",
    "import os\n",
    "import time\n",
    "import json\n",
    "from inception_v3 import  InceptionV3\n",
    "from tqdm import tqdm\n",
    "import math\n",
    "\n",
    "from NIC import model,greedy_inference_model,image_dense_lstm,text_emb_lstm\n"
   ]
  },
  {
   "cell_type": "code",
   "execution_count": 2,
   "metadata": {},
   "outputs": [],
   "source": [
    "fp3= \"data/captions_train2014.json\"\n",
    "with open(fp3,'r') as f3:\n",
    "    mscoco_data= json.load(f3)\n",
    "    "
   ]
  },
  {
   "cell_type": "code",
   "execution_count": 3,
   "metadata": {},
   "outputs": [],
   "source": [
    "all_img_name_vector=[]\n",
    "all_captions=[]\n",
    "PATH_DIR= '/home/yiyang/project/caption/caption'\n",
    "PATH_TRAIN=PATH_DIR + '/data/train2014/'\n",
    "for annot in mscoco_data['annotations']:\n",
    "    caption =  annot['caption']\n",
    "   \n",
    "    caption = caption.rstrip()\n",
    "    caption = caption.lower()\n",
    "    caption = [x.replace(\".\", \"\") for x in caption]\n",
    "    caption = \"\".join(caption)\n",
    "    caption = caption.rstrip()\n",
    "    caption = \"\".join(caption)\n",
    "    \n",
    "    image_id = annot['image_id']\n",
    "    full_coco_image_path = PATH_TRAIN + 'COCO_train2014_' + '%012d.jpg' % (image_id)\n",
    "\n",
    "    all_img_name_vector.append(full_coco_image_path)\n",
    "    all_captions.append(caption)\n",
    "#     \n",
    "# train_captions, img_name_vector = shuffle(all_captions,\n",
    "#                                           all_img_name_vector,\n",
    "#                                           random_state=1)\n",
    "num_examples = 400000\n",
    "train_captions = all_captions[:num_examples]\n",
    "img_name_vector = all_img_name_vector[:num_examples]\n"
   ]
  },
  {
   "cell_type": "code",
   "execution_count": 4,
   "metadata": {},
   "outputs": [],
   "source": [
    "fp4= \"sentence_dict2.json\"\n",
    "with open(fp4,\"r\") as f4 :\n",
    "    sentiment_dict= json.load(f4)\n",
    "    "
   ]
  },
  {
   "cell_type": "code",
   "execution_count": 5,
   "metadata": {},
   "outputs": [
    {
     "name": "stdout",
     "output_type": "stream",
     "text": [
      "25687\n"
     ]
    }
   ],
   "source": [
    "sentiment_vec=[]\n",
    "caption_vec=[]\n",
    "error=0\n",
    "for i in range(num_examples):\n",
    "    cap= train_captions[i]\n",
    "    if cap in sentiment_dict.keys():\n",
    "        senti= sentiment_dict[cap]\n",
    "        \n",
    "    else:\n",
    "        senti=0\n",
    "        error+=1\n",
    "        # print(cap)\n",
    "    cap= '<start> ' + cap +' <end>'\n",
    "    caption_vec.append(cap)\n",
    "    sentiment_vec.append(senti)\n",
    "    \n",
    "print(error)\n"
   ]
  },
  {
   "cell_type": "code",
   "execution_count": 6,
   "metadata": {},
   "outputs": [
    {
     "name": "stdout",
     "output_type": "stream",
     "text": [
      "<start> a very clean and well decorated empty bathroom <end>\n"
     ]
    }
   ],
   "source": [
    "image_name_train= img_name_vector[:num_examples]\n",
    "senti_train= sentiment_vec[:num_examples]\n",
    "caption_train= caption_vec[:num_examples]\n",
    "print(caption_train[0])"
   ]
  },
  {
   "cell_type": "code",
   "execution_count": 7,
   "metadata": {},
   "outputs": [],
   "source": [
    "def load_image(image_path):\n",
    "    img= cv2.imread(image_path)\n",
    "    img= cv2.resize(img,(299,299))\n",
    "    return img\n",
    "\n"
   ]
  },
  {
   "cell_type": "code",
   "execution_count": 8,
   "metadata": {},
   "outputs": [],
   "source": [
    "units= 512\n",
    "embedding_size=511\n",
    "BATCH_SIZE=80\n",
    "vocab_size=12000\n",
    "max_length=20\n"
   ]
  },
  {
   "cell_type": "code",
   "execution_count": 9,
   "metadata": {},
   "outputs": [
    {
     "name": "stdout",
     "output_type": "stream",
     "text": [
      "[3, 2, 145, 494, 10, 619, 421, 276, 57, 4]\n[  3   2 145 494  10 619 421 276  57   4   0   0   0   0   0   0   0   0\n   0   0   0]\n"
     ]
    }
   ],
   "source": [
    "top_k = vocab_size-1\n",
    "tokenizer = keras.preprocessing.text.Tokenizer(num_words=top_k,\n",
    "                                                  oov_token=\"<unk>\",\n",
    "                                                  filters='!\"#$%&()*+.,-/:;=?@[\\]^_`{|}~ ')\n",
    "tokenizer.fit_on_texts(caption_train)\n",
    "tokenizer.word_index['<pad>'] = 0\n",
    "tokenizer.index_word[0] = '<pad>'\n",
    "\n",
    "\n",
    "train_seqs = tokenizer.texts_to_sequences(caption_train)\n",
    "cap_vector_train = keras.preprocessing.sequence.pad_sequences(train_seqs,dtype='int32', padding='post',truncating='post',maxlen=max_length+1,value=0)\n",
    "\n",
    "print(train_seqs[0])\n",
    "print(cap_vector_train[0])\n",
    "\n"
   ]
  },
  {
   "cell_type": "code",
   "execution_count": 10,
   "metadata": {},
   "outputs": [
    {
     "name": "stdout",
     "output_type": "stream",
     "text": [
      "\" .\n8861 train-cap_length\n8861 train-senti_score\n"
     ]
    }
   ],
   "source": [
    "fname=\"new_out.txt\"\n",
    "i=0\n",
    "l1=10000\n",
    "senti_score=[]\n",
    "senti_avg=[]\n",
    "error=0\n",
    "senti_var=[]\n",
    "train_caption=[]\n",
    "senti_cap_dict={}\n",
    "with open(fname) as f1:\n",
    "    while(i<l1):\n",
    "        w1= f1.readline().strip()\n",
    "        if not w1:\n",
    "            break\n",
    "        w2= f1.readline().strip()\n",
    "        w1 = [x.replace(\".\", \"\") for x in w1]\n",
    "        w1= [x.replace(\",\",\"\") for x in w1]\n",
    "        w1= [x.replace(\"'\",\"\") for x in w1]\n",
    "        w1= [x.replace(\"?\",\"\") for x in w1]\n",
    "        w1= \"\".join(x for x in w1)\n",
    "        w1= w1.rstrip()\n",
    "        w1= \"\".join(x for x in w1)\n",
    "\n",
    "        if w2.islower():\n",
    "            w1=w2\n",
    "            w2=f1.readline().strip()\n",
    "        a= 0\n",
    "        if w2==\"Negative\":\n",
    "            a= -1\n",
    "        elif w2==\"Positive\":\n",
    "            a= 1\n",
    "        elif w2==\"Very negative\":\n",
    "            a= -1\n",
    "        elif w2==\"Very positive\":\n",
    "            a= 1\n",
    "        elif w2==\"Neutral\":\n",
    "            a= 0\n",
    "        else:\n",
    "            a=0\n",
    "            error+=1\n",
    "            print(w2)\n",
    "        senti_score.append(a)\n",
    "        train_caption.append(w1)\n",
    "        senti_cap_dict[w1]=a\n",
    "        i+=1\n",
    "# print(senti_score[0:500] )\n",
    "print(len(train_caption),\"train-cap_length\")\n",
    "print(len(senti_score),\"train-senti_score\")\n"
   ]
  },
  {
   "cell_type": "code",
   "execution_count": 11,
   "metadata": {},
   "outputs": [
    {
     "name": "stdout",
     "output_type": "stream",
     "text": [
      "a plate of delicious food including french fries\n"
     ]
    }
   ],
   "source": [
    "num_examples=8000\n",
    "\n",
    "image_name_train= img_name_vector[:num_examples]\n",
    "senti_train= senti_score[:num_examples]\n",
    "caption_train= train_caption[:num_examples]\n",
    "print(caption_train[0])\n"
   ]
  },
  {
   "cell_type": "code",
   "execution_count": 12,
   "metadata": {},
   "outputs": [],
   "source": [
    "fp2=\"data/senticap_dataset.json\"\n",
    "\n",
    "with open(fp2,'r') as f2:\n",
    "    senticap_data= json.load(f2)\n",
    "senticap_list=[]\n",
    "senticap_list_raw=[]\n",
    "l=0\n",
    "for img_obj in senticap_data['images']:\n",
    "    # if (l>20):\n",
    "    #     break\n",
    "    # l+=1\n",
    "    img_name= img_obj['filename']\n",
    "    for sent in img_obj['sentences']:\n",
    "        sentiment= sent['sentiment']\n",
    "        raw= sent['raw'].lower()\n",
    "        w0= raw.rstrip()\n",
    "        w0 = [x.replace(\".\", \"\") for x in w0]\n",
    "        w0= [x.replace(\",\",\"\") for x in w0]\n",
    "        w0= [x.replace(\"'\",\"\") for x in w0]\n",
    "        w0= [x.replace(\"?\",\"\") for x in w0]\n",
    "        w0=\"\".join(w0)\n",
    "        senticap_list.append((img_name,sentiment,w0))\n",
    "        senticap_list_raw.append((img_name,w0))\n",
    "        \n",
    "        \n",
    "        "
   ]
  },
  {
   "cell_type": "code",
   "execution_count": 13,
   "metadata": {},
   "outputs": [
    {
     "name": "stdout",
     "output_type": "stream",
     "text": [
      "\" .\n8861 train-cap_length\n8861 train-senti_score\n"
     ]
    }
   ],
   "source": [
    "\"\"\"read from output of nlp treebank\"\"\"\n",
    "\n",
    "fname=\"new_out.txt\"\n",
    "i=0\n",
    "l1=10000\n",
    "senti_score=[]\n",
    "senti_avg=[]\n",
    "error=0\n",
    "senti_var=[]\n",
    "train_caption=[]\n",
    "senti_cap_dict={}\n",
    "with open(fname) as f1:\n",
    "    while(i<l1):\n",
    "        w1= f1.readline().strip()\n",
    "        if not w1:\n",
    "            break\n",
    "        w2= f1.readline().strip()\n",
    "        w1 = [x.replace(\".\", \"\") for x in w1]\n",
    "        w1= [x.replace(\",\",\"\") for x in w1]\n",
    "        w1= [x.replace(\"'\",\"\") for x in w1]\n",
    "        w1= [x.replace(\"?\",\"\") for x in w1]\n",
    "        w1= \"\".join(x for x in w1)\n",
    "        w1= w1.rstrip()\n",
    "        w1= \"\".join(x for x in w1)\n",
    "\n",
    "        if w2.islower():\n",
    "            w1=w2\n",
    "            w2=f1.readline().strip()\n",
    "        a= 0\n",
    "        if w2==\"Negative\":\n",
    "            a= -1\n",
    "        elif w2==\"Positive\":\n",
    "            a= 1\n",
    "        elif w2==\"Very negative\":\n",
    "            a= -1\n",
    "        elif w2==\"Very positive\":\n",
    "            a= 1\n",
    "        elif w2==\"Neutral\":\n",
    "            a= 0\n",
    "        else:\n",
    "            a=0\n",
    "            error+=1\n",
    "            print(w2)\n",
    "        senti_score.append(a)\n",
    "        train_caption.append(w1)\n",
    "        senti_cap_dict[w1]=a\n",
    "        i+=1\n",
    "# print(senti_score[0:500] )\n",
    "print(len(train_caption),\"train-cap_length\")\n",
    "print(len(senti_score),\"train-senti_score\")\n"
   ]
  },
  {
   "cell_type": "code",
   "execution_count": 14,
   "metadata": {},
   "outputs": [],
   "source": [
    "PATH_DIR= '/home/yiyang/project/caption/caption'\n",
    "PATH= PATH_DIR+'/data/val2014/'\n",
    "image_vec=[]\n",
    "sentiment_vec=[]\n",
    "caption_vec=[]\n",
    "\n",
    "for item in senticap_list:\n",
    "    img= item[0]\n",
    "    if item[1]==1:\n",
    "        senti=1\n",
    "    elif item[1]==0:\n",
    "        senti=-1\n",
    "    else:\n",
    "        senti=0\n",
    "\n",
    "    caption= item[2]\n",
    "    # print(caption+\"#\")\n",
    "    if caption in senti_cap_dict.keys():\n",
    "        new_senti= senti_cap_dict[caption]\n",
    "    else:\n",
    "        new_senti= 0\n",
    "    img= PATH + img \n",
    "    caption= '<start> ' + caption + ' <end>'\n",
    "    image_vec.append(img)\n",
    "    sentiment_vec.append(new_senti)\n",
    "    caption_vec.append(caption)\n",
    "    \n",
    "    "
   ]
  },
  {
   "cell_type": "code",
   "execution_count": 15,
   "metadata": {},
   "outputs": [],
   "source": [
    "units= 512\n",
    "embedding_size=511\n",
    "BATCH_SIZE=80\n",
    "vocab_size=12000\n",
    "max_length=20\n",
    "num_examples=8861"
   ]
  },
  {
   "cell_type": "code",
   "execution_count": 16,
   "metadata": {},
   "outputs": [],
   "source": [
    "image_name_train= image_vec[:num_examples]\n",
    "senti_train= sentiment_vec[:num_examples]\n",
    "caption_train= caption_vec[:num_examples]\n"
   ]
  },
  {
   "cell_type": "code",
   "execution_count": 17,
   "metadata": {},
   "outputs": [
    {
     "name": "stdout",
     "output_type": "stream",
     "text": [
      "[3, 2, 117, 6, 201, 32, 764, 835, 703, 4]\n[  3   2 117   6 201  32 764 835 703   4   0   0   0   0   0   0   0   0\n   0   0   0]\n"
     ]
    }
   ],
   "source": [
    "vocab_size=4500\n",
    "top_k = vocab_size-1\n",
    "tokenizer = keras.preprocessing.text.Tokenizer(num_words=top_k,\n",
    "                                                  oov_token=\"<unk>\",\n",
    "                                                  filters='!\"#$%&()*+.,-/:;=?@[\\]^_`{|}~ ')\n",
    "tokenizer.fit_on_texts(caption_train)\n",
    "tokenizer.word_index['<pad>'] = 0\n",
    "tokenizer.index_word[0] = '<pad>'\n",
    "\n",
    "\n",
    "train_seqs = tokenizer.texts_to_sequences(caption_train)\n",
    "cap_vector_train = keras.preprocessing.sequence.pad_sequences(train_seqs,dtype='int32', padding='post',truncating='post',maxlen=max_length+1,value=0)\n",
    "\n",
    "print(train_seqs[0])\n",
    "print(cap_vector_train[0])\n",
    "\n"
   ]
  },
  {
   "cell_type": "code",
   "execution_count": 18,
   "metadata": {},
   "outputs": [
    {
     "name": "stdout",
     "output_type": "stream",
     "text": [
      "/home/yiyang/project/caption/caption/data/train2014/COCO_train2014_000000266289.jpg\ntwo people sitting on top of a bench on a lush green hillside\n"
     ]
    }
   ],
   "source": [
    "print(img_name_vector[8500])\n",
    "# img=load_image(image_name_train[0])\n",
    "img=cv2.imread(img_name_vector[8500])  \n",
    "print(train_captions[8500])\n",
    "# img=cv2.imshow('image',img)\n",
    "cv2.imshow('ImageWindow', img)\n",
    "cv2.waitKey(0)\n",
    "cv2.destroyAllWindows()\n",
    "\n"
   ]
  },
  {
   "cell_type": "code",
   "execution_count": 23,
   "metadata": {},
   "outputs": [],
   "source": [
    "def batch_generator(batch_size,units,vocab_size,train_num,start):\n",
    "    input_imgs=[]\n",
    "    # start=0\n",
    "    # print(start,'start')\n",
    "    for j in tqdm(range(train_num)):\n",
    "        img= load_image( image_name_train[start+j])\n",
    "        input_imgs.append(img)\n",
    "    input_imgs= np.array(input_imgs)\n",
    "    input_sentis= np.array(senti_train[start:start+train_num])\n",
    "    input_sequences= np.array(cap_vector_train[start:start+train_num])\n",
    "    \n",
    "    # print(input_sequences.shape,\"input_seq\")\n",
    "    target= input_sequences[:,1:]\n",
    "    \n",
    "    # target= np.expand_dims(target,axis=-1)\n",
    "    # print(target.shape,\"target\")\n",
    "    state_c= np.zeros(shape=(train_num,512))\n",
    "    state_h= np.zeros(shape=(train_num,512))\n",
    "    \n",
    "    while True:\n",
    "        for i in range(0,train_num,batch_size):\n",
    "            img_features=input_imgs[i:i+batch_size,:]\n",
    "            seqs= input_sequences[i:i+batch_size,0:max_length]\n",
    "            state_c= np.zeros([batch_size,units])\n",
    "            state_h= np.zeros([batch_size,units])\n",
    "            sentiment= input_sentis[i:i+batch_size]\n",
    "            \n",
    "            \n",
    "            target_seq= input_sequences[i:i+batch_size,1:]\n",
    "            y= keras.utils.to_categorical(target_seq,vocab_size)\n",
    "            # print(y.shape,\"y-shape\")\n",
    "            yield ([img_features,seqs,sentiment,state_c, state_h],y)\n",
    "\n",
    "\n"
   ]
  },
  {
   "cell_type": "code",
   "execution_count": 24,
   "metadata": {},
   "outputs": [],
   "source": [
    "start=0\n",
    "train_num=8000\n",
    "generator_train= batch_generator(BATCH_SIZE,units,vocab_size,train_num,start)\n"
   ]
  },
  {
   "cell_type": "code",
   "execution_count": 25,
   "metadata": {},
   "outputs": [],
   "source": [
    "start2=8000\n",
    "train_num2=480\n",
    "generator_dev= batch_generator(BATCH_SIZE,units,vocab_size,train_num2,start2)\n"
   ]
  },
  {
   "cell_type": "code",
   "execution_count": 26,
   "metadata": {},
   "outputs": [
    {
     "name": "stderr",
     "output_type": "stream",
     "text": [
      "W1005 22:48:15.775201 139620787283776 deprecation.py:506] From /home/yiyang/anaconda3/envs/caption/lib/python3.7/site-packages/keras/backend/tensorflow_backend.py:3445: calling dropout (from tensorflow.python.ops.nn_ops) with keep_prob is deprecated and will be removed in a future version.\nInstructions for updating:\nPlease use `rate` instead of `keep_prob`. Rate should be set to `rate = 1 - keep_prob`.\n"
     ]
    },
    {
     "name": "stderr",
     "output_type": "stream",
     "text": [
      "W1005 22:48:16.329832 139620787283776 deprecation.py:323] From /home/yiyang/anaconda3/envs/caption/lib/python3.7/site-packages/keras/backend/tensorflow_backend.py:2974: add_dispatch_support.<locals>.wrapper (from tensorflow.python.ops.array_ops) is deprecated and will be removed in a future version.\nInstructions for updating:\nUse tf.where in 2.0, which has the same broadcast rule as np.where\n"
     ]
    },
    {
     "name": "stderr",
     "output_type": "stream",
     "text": [
      "W1005 22:48:16.363183 139620787283776 deprecation_wrapper.py:119] From /home/yiyang/anaconda3/envs/caption/lib/python3.7/site-packages/keras/optimizers.py:790: The name tf.train.Optimizer is deprecated. Please use tf.compat.v1.train.Optimizer instead.\n\n"
     ]
    }
   ],
   "source": [
    "reg=1e-4\n",
    "decay=0\n",
    "lr=0.001\n",
    "initial_epoch=0\n",
    "\n",
    "NIC_model=model(vocab_size,max_length,reg)\n",
    "# complete_model= keras.Model(image_model.input,NIC_model.output)\n",
    "NIC_model.compile(loss='categorical_crossentropy', optimizer=keras.optimizers.Adam(lr = lr, decay=decay), metrics=['accuracy'])\n"
   ]
  },
  {
   "cell_type": "code",
   "execution_count": 27,
   "metadata": {},
   "outputs": [
    {
     "name": "stderr",
     "output_type": "stream",
     "text": [
      "\r  0%|          | 0/8000 [00:00<?, ?it/s]"
     ]
    },
    {
     "name": "stderr",
     "output_type": "stream",
     "text": [
      "\n"
     ]
    },
    {
     "name": "stderr",
     "output_type": "stream",
     "text": [
      "\r  0%|          | 0/480 [00:00<?, ?it/s]"
     ]
    },
    {
     "name": "stderr",
     "output_type": "stream",
     "text": [
      "\u001b[A"
     ]
    },
    {
     "name": "stderr",
     "output_type": "stream",
     "text": [
      "\r  0%|          | 24/8000 [00:00<00:33, 236.38it/s]"
     ]
    },
    {
     "name": "stderr",
     "output_type": "stream",
     "text": [
      "\n"
     ]
    },
    {
     "name": "stderr",
     "output_type": "stream",
     "text": [
      "\r  5%|▍         | 22/480 [00:00<00:02, 215.01it/s]"
     ]
    },
    {
     "name": "stderr",
     "output_type": "stream",
     "text": [
      "\u001b[A"
     ]
    },
    {
     "name": "stdout",
     "output_type": "stream",
     "text": [
      "Epoch 1/40\n"
     ]
    },
    {
     "name": "stderr",
     "output_type": "stream",
     "text": [
      "\r  1%|          | 50/8000 [00:00<00:32, 241.36it/s]"
     ]
    },
    {
     "name": "stderr",
     "output_type": "stream",
     "text": [
      "\n"
     ]
    },
    {
     "name": "stderr",
     "output_type": "stream",
     "text": [
      "\r  9%|▉         | 45/480 [00:00<00:01, 218.04it/s]"
     ]
    },
    {
     "name": "stderr",
     "output_type": "stream",
     "text": [
      "\u001b[A"
     ]
    },
    {
     "name": "stderr",
     "output_type": "stream",
     "text": [
      "\r  1%|          | 70/8000 [00:00<00:35, 226.17it/s]"
     ]
    },
    {
     "name": "stderr",
     "output_type": "stream",
     "text": [
      "\n"
     ]
    },
    {
     "name": "stderr",
     "output_type": "stream",
     "text": [
      "\r 14%|█▍        | 69/480 [00:00<00:01, 222.84it/s]"
     ]
    },
    {
     "name": "stderr",
     "output_type": "stream",
     "text": [
      "\u001b[A"
     ]
    },
    {
     "name": "stderr",
     "output_type": "stream",
     "text": [
      "\r  1%|          | 96/8000 [00:00<00:33, 234.73it/s]"
     ]
    },
    {
     "name": "stderr",
     "output_type": "stream",
     "text": [
      "\n"
     ]
    },
    {
     "name": "stderr",
     "output_type": "stream",
     "text": [
      "\r 19%|█▉        | 93/480 [00:00<00:01, 226.48it/s]"
     ]
    },
    {
     "name": "stderr",
     "output_type": "stream",
     "text": [
      "\u001b[A"
     ]
    },
    {
     "name": "stderr",
     "output_type": "stream",
     "text": [
      "\n"
     ]
    },
    {
     "name": "stderr",
     "output_type": "stream",
     "text": [
      "\r 24%|██▍       | 115/480 [00:00<00:01, 223.74it/s]"
     ]
    },
    {
     "name": "stderr",
     "output_type": "stream",
     "text": [
      "\u001b[A"
     ]
    },
    {
     "name": "stderr",
     "output_type": "stream",
     "text": [
      "\r  1%|▏         | 118/8000 [00:00<00:34, 225.72it/s]"
     ]
    },
    {
     "name": "stderr",
     "output_type": "stream",
     "text": [
      "\r  2%|▏         | 142/8000 [00:00<00:34, 229.36it/s]"
     ]
    },
    {
     "name": "stderr",
     "output_type": "stream",
     "text": [
      "\n"
     ]
    },
    {
     "name": "stderr",
     "output_type": "stream",
     "text": [
      "\r 29%|██▉       | 141/480 [00:00<00:01, 231.40it/s]"
     ]
    },
    {
     "name": "stderr",
     "output_type": "stream",
     "text": [
      "\u001b[A"
     ]
    },
    {
     "name": "stderr",
     "output_type": "stream",
     "text": [
      "\r  2%|▏         | 168/8000 [00:00<00:33, 237.10it/s]"
     ]
    },
    {
     "name": "stderr",
     "output_type": "stream",
     "text": [
      "\n"
     ]
    },
    {
     "name": "stderr",
     "output_type": "stream",
     "text": [
      "\r 34%|███▍      | 163/480 [00:00<00:01, 227.62it/s]"
     ]
    },
    {
     "name": "stderr",
     "output_type": "stream",
     "text": [
      "\u001b[A"
     ]
    },
    {
     "name": "stderr",
     "output_type": "stream",
     "text": [
      "\n"
     ]
    },
    {
     "name": "stderr",
     "output_type": "stream",
     "text": [
      "\r 39%|███▉      | 187/480 [00:00<00:01, 230.19it/s]"
     ]
    },
    {
     "name": "stderr",
     "output_type": "stream",
     "text": [
      "\u001b[A"
     ]
    },
    {
     "name": "stderr",
     "output_type": "stream",
     "text": [
      "\r  2%|▏         | 190/8000 [00:00<00:34, 227.65it/s]"
     ]
    },
    {
     "name": "stderr",
     "output_type": "stream",
     "text": [
      "\n"
     ]
    },
    {
     "name": "stderr",
     "output_type": "stream",
     "text": [
      "\r 45%|████▍     | 214/480 [00:00<00:01, 238.23it/s]"
     ]
    },
    {
     "name": "stderr",
     "output_type": "stream",
     "text": [
      "\u001b[A"
     ]
    },
    {
     "name": "stderr",
     "output_type": "stream",
     "text": [
      "\r  3%|▎         | 215/8000 [00:00<00:33, 232.03it/s]"
     ]
    },
    {
     "name": "stderr",
     "output_type": "stream",
     "text": [
      "\r  3%|▎         | 238/8000 [00:01<00:33, 230.00it/s]"
     ]
    },
    {
     "name": "stderr",
     "output_type": "stream",
     "text": [
      "\n"
     ]
    },
    {
     "name": "stderr",
     "output_type": "stream",
     "text": [
      "\r 50%|████▉     | 238/480 [00:01<00:01, 227.97it/s]"
     ]
    },
    {
     "name": "stderr",
     "output_type": "stream",
     "text": [
      "\u001b[A"
     ]
    },
    {
     "name": "stderr",
     "output_type": "stream",
     "text": [
      "\r  3%|▎         | 261/8000 [00:01<00:33, 228.20it/s]"
     ]
    },
    {
     "name": "stderr",
     "output_type": "stream",
     "text": [
      "\n"
     ]
    },
    {
     "name": "stderr",
     "output_type": "stream",
     "text": [
      "\r 54%|█████▍    | 261/480 [00:01<00:00, 227.06it/s]"
     ]
    },
    {
     "name": "stderr",
     "output_type": "stream",
     "text": [
      "\u001b[A"
     ]
    },
    {
     "name": "stderr",
     "output_type": "stream",
     "text": [
      "\r  4%|▎         | 286/8000 [00:01<00:33, 232.64it/s]"
     ]
    },
    {
     "name": "stderr",
     "output_type": "stream",
     "text": [
      "\n"
     ]
    },
    {
     "name": "stderr",
     "output_type": "stream",
     "text": [
      "\r 60%|██████    | 288/480 [00:01<00:00, 237.20it/s]"
     ]
    },
    {
     "name": "stderr",
     "output_type": "stream",
     "text": [
      "\u001b[A"
     ]
    },
    {
     "name": "stderr",
     "output_type": "stream",
     "text": [
      "\r  4%|▍         | 310/8000 [00:01<00:33, 227.48it/s]"
     ]
    },
    {
     "name": "stderr",
     "output_type": "stream",
     "text": [
      "\n"
     ]
    },
    {
     "name": "stderr",
     "output_type": "stream",
     "text": [
      "\r 65%|██████▌   | 313/480 [00:01<00:00, 239.31it/s]"
     ]
    },
    {
     "name": "stderr",
     "output_type": "stream",
     "text": [
      "\u001b[A"
     ]
    },
    {
     "name": "stderr",
     "output_type": "stream",
     "text": [
      "\r  4%|▍         | 340/8000 [00:01<00:31, 244.95it/s]"
     ]
    },
    {
     "name": "stderr",
     "output_type": "stream",
     "text": [
      "\n"
     ]
    },
    {
     "name": "stderr",
     "output_type": "stream",
     "text": [
      "\r 70%|███████   | 338/480 [00:01<00:00, 242.36it/s]"
     ]
    },
    {
     "name": "stderr",
     "output_type": "stream",
     "text": [
      "\u001b[A"
     ]
    },
    {
     "name": "stderr",
     "output_type": "stream",
     "text": [
      "\r  5%|▍         | 370/8000 [00:01<00:29, 259.09it/s]"
     ]
    },
    {
     "name": "stderr",
     "output_type": "stream",
     "text": [
      "\n"
     ]
    },
    {
     "name": "stderr",
     "output_type": "stream",
     "text": [
      "\r 76%|███████▌  | 363/480 [00:01<00:00, 235.00it/s]"
     ]
    },
    {
     "name": "stderr",
     "output_type": "stream",
     "text": [
      "\u001b[A"
     ]
    },
    {
     "name": "stderr",
     "output_type": "stream",
     "text": [
      "\n"
     ]
    },
    {
     "name": "stderr",
     "output_type": "stream",
     "text": [
      "\r 81%|████████  | 387/480 [00:01<00:00, 234.02it/s]"
     ]
    },
    {
     "name": "stderr",
     "output_type": "stream",
     "text": [
      "\u001b[A"
     ]
    },
    {
     "name": "stderr",
     "output_type": "stream",
     "text": [
      "\r  5%|▍         | 397/8000 [00:01<00:31, 240.00it/s]"
     ]
    },
    {
     "name": "stderr",
     "output_type": "stream",
     "text": [
      "\n"
     ]
    },
    {
     "name": "stderr",
     "output_type": "stream",
     "text": [
      "\r 86%|████████▌ | 412/480 [00:01<00:00, 237.91it/s]"
     ]
    },
    {
     "name": "stderr",
     "output_type": "stream",
     "text": [
      "\u001b[A"
     ]
    },
    {
     "name": "stderr",
     "output_type": "stream",
     "text": [
      "\r  5%|▌         | 422/8000 [00:01<00:31, 242.62it/s]"
     ]
    },
    {
     "name": "stderr",
     "output_type": "stream",
     "text": [
      "\n"
     ]
    },
    {
     "name": "stderr",
     "output_type": "stream",
     "text": [
      "\r 91%|█████████ | 436/480 [00:01<00:00, 228.61it/s]"
     ]
    },
    {
     "name": "stderr",
     "output_type": "stream",
     "text": [
      "\u001b[A"
     ]
    },
    {
     "name": "stderr",
     "output_type": "stream",
     "text": [
      "\r  6%|▌         | 448/8000 [00:01<00:30, 246.16it/s]"
     ]
    },
    {
     "name": "stderr",
     "output_type": "stream",
     "text": [
      "\n"
     ]
    },
    {
     "name": "stderr",
     "output_type": "stream",
     "text": [
      "\r 96%|█████████▋| 463/480 [00:01<00:00, 238.15it/s]"
     ]
    },
    {
     "name": "stderr",
     "output_type": "stream",
     "text": [
      "\u001b[A"
     ]
    },
    {
     "name": "stderr",
     "output_type": "stream",
     "text": [
      "\r  6%|▌         | 475/8000 [00:01<00:29, 251.21it/s]"
     ]
    },
    {
     "name": "stderr",
     "output_type": "stream",
     "text": [
      "\r100%|██████████| 480/480 [00:02<00:00, 233.49it/s]"
     ]
    },
    {
     "name": "stderr",
     "output_type": "stream",
     "text": [
      "\n"
     ]
    },
    {
     "name": "stderr",
     "output_type": "stream",
     "text": [
      "\r  6%|▋         | 501/8000 [00:02<00:30, 245.63it/s]"
     ]
    },
    {
     "name": "stderr",
     "output_type": "stream",
     "text": [
      "\r  7%|▋         | 526/8000 [00:02<00:31, 239.12it/s]"
     ]
    },
    {
     "name": "stderr",
     "output_type": "stream",
     "text": [
      "\r  7%|▋         | 557/8000 [00:02<00:29, 253.81it/s]"
     ]
    },
    {
     "name": "stderr",
     "output_type": "stream",
     "text": [
      "\r  7%|▋         | 583/8000 [00:02<00:30, 241.79it/s]"
     ]
    },
    {
     "name": "stderr",
     "output_type": "stream",
     "text": [
      "\r  8%|▊         | 608/8000 [00:02<00:30, 242.19it/s]"
     ]
    },
    {
     "name": "stderr",
     "output_type": "stream",
     "text": [
      "\r  8%|▊         | 636/8000 [00:02<00:29, 252.03it/s]"
     ]
    },
    {
     "name": "stderr",
     "output_type": "stream",
     "text": [
      "\r  8%|▊         | 662/8000 [00:02<00:29, 251.47it/s]"
     ]
    },
    {
     "name": "stderr",
     "output_type": "stream",
     "text": [
      "\r  9%|▊         | 689/8000 [00:02<00:28, 253.31it/s]"
     ]
    },
    {
     "name": "stderr",
     "output_type": "stream",
     "text": [
      "\r  9%|▉         | 715/8000 [00:02<00:30, 242.53it/s]"
     ]
    },
    {
     "name": "stderr",
     "output_type": "stream",
     "text": [
      "\r  9%|▉         | 740/8000 [00:03<00:29, 243.27it/s]"
     ]
    },
    {
     "name": "stderr",
     "output_type": "stream",
     "text": [
      "\r 10%|▉         | 768/8000 [00:03<00:28, 251.39it/s]"
     ]
    },
    {
     "name": "stderr",
     "output_type": "stream",
     "text": [
      "\r 10%|▉         | 794/8000 [00:03<00:29, 247.60it/s]"
     ]
    },
    {
     "name": "stderr",
     "output_type": "stream",
     "text": [
      "\r 10%|█         | 819/8000 [00:03<00:29, 246.19it/s]"
     ]
    },
    {
     "name": "stderr",
     "output_type": "stream",
     "text": [
      "\r 11%|█         | 844/8000 [00:03<00:29, 242.84it/s]"
     ]
    },
    {
     "name": "stderr",
     "output_type": "stream",
     "text": [
      "\r 11%|█         | 872/8000 [00:03<00:28, 252.01it/s]"
     ]
    },
    {
     "name": "stderr",
     "output_type": "stream",
     "text": [
      "\r 11%|█         | 899/8000 [00:03<00:27, 255.18it/s]"
     ]
    },
    {
     "name": "stderr",
     "output_type": "stream",
     "text": [
      "\r 12%|█▏        | 928/8000 [00:03<00:26, 262.59it/s]"
     ]
    },
    {
     "name": "stderr",
     "output_type": "stream",
     "text": [
      "\r 12%|█▏        | 955/8000 [00:03<00:27, 253.09it/s]"
     ]
    },
    {
     "name": "stderr",
     "output_type": "stream",
     "text": [
      "\r 12%|█▏        | 981/8000 [00:04<00:27, 254.90it/s]"
     ]
    },
    {
     "name": "stderr",
     "output_type": "stream",
     "text": [
      "\r 13%|█▎        | 1007/8000 [00:04<00:27, 252.36it/s]"
     ]
    },
    {
     "name": "stderr",
     "output_type": "stream",
     "text": [
      "\r 13%|█▎        | 1037/8000 [00:04<00:26, 264.15it/s]"
     ]
    },
    {
     "name": "stderr",
     "output_type": "stream",
     "text": [
      "\r 13%|█▎        | 1064/8000 [00:04<00:26, 259.05it/s]"
     ]
    },
    {
     "name": "stderr",
     "output_type": "stream",
     "text": [
      "\r 14%|█▎        | 1091/8000 [00:04<00:26, 256.74it/s]"
     ]
    },
    {
     "name": "stderr",
     "output_type": "stream",
     "text": [
      "\r 14%|█▍        | 1117/8000 [00:04<00:27, 253.56it/s]"
     ]
    },
    {
     "name": "stderr",
     "output_type": "stream",
     "text": [
      "\r 14%|█▍        | 1147/8000 [00:04<00:26, 263.00it/s]"
     ]
    },
    {
     "name": "stderr",
     "output_type": "stream",
     "text": [
      "\r 15%|█▍        | 1174/8000 [00:04<00:26, 253.36it/s]"
     ]
    },
    {
     "name": "stderr",
     "output_type": "stream",
     "text": [
      "\r 15%|█▌        | 1204/8000 [00:04<00:25, 265.16it/s]"
     ]
    },
    {
     "name": "stderr",
     "output_type": "stream",
     "text": [
      "\r 15%|█▌        | 1231/8000 [00:04<00:27, 246.79it/s]"
     ]
    },
    {
     "name": "stderr",
     "output_type": "stream",
     "text": [
      "\r 16%|█▌        | 1257/8000 [00:05<00:26, 249.76it/s]"
     ]
    },
    {
     "name": "stderr",
     "output_type": "stream",
     "text": [
      "\r 16%|█▌        | 1283/8000 [00:05<00:27, 248.39it/s]"
     ]
    },
    {
     "name": "stderr",
     "output_type": "stream",
     "text": [
      "\r 16%|█▋        | 1309/8000 [00:05<00:28, 236.05it/s]"
     ]
    },
    {
     "name": "stderr",
     "output_type": "stream",
     "text": [
      "\r 17%|█▋        | 1333/8000 [00:05<00:28, 232.52it/s]"
     ]
    },
    {
     "name": "stderr",
     "output_type": "stream",
     "text": [
      "\r 17%|█▋        | 1358/8000 [00:05<00:28, 235.73it/s]"
     ]
    },
    {
     "name": "stderr",
     "output_type": "stream",
     "text": [
      "\r 17%|█▋        | 1385/8000 [00:05<00:27, 243.45it/s]"
     ]
    },
    {
     "name": "stderr",
     "output_type": "stream",
     "text": [
      "\r 18%|█▊        | 1412/8000 [00:05<00:26, 248.05it/s]"
     ]
    },
    {
     "name": "stderr",
     "output_type": "stream",
     "text": [
      "\r 18%|█▊        | 1440/8000 [00:05<00:25, 256.45it/s]"
     ]
    },
    {
     "name": "stderr",
     "output_type": "stream",
     "text": [
      "\r 18%|█▊        | 1466/8000 [00:05<00:25, 255.20it/s]"
     ]
    },
    {
     "name": "stderr",
     "output_type": "stream",
     "text": [
      "\r 19%|█▊        | 1492/8000 [00:06<00:26, 249.44it/s]"
     ]
    },
    {
     "name": "stderr",
     "output_type": "stream",
     "text": [
      "\r 19%|█▉        | 1518/8000 [00:06<00:26, 241.06it/s]"
     ]
    },
    {
     "name": "stderr",
     "output_type": "stream",
     "text": [
      "\r 19%|█▉        | 1543/8000 [00:06<00:26, 242.70it/s]"
     ]
    },
    {
     "name": "stderr",
     "output_type": "stream",
     "text": [
      "\r 20%|█▉        | 1568/8000 [00:06<00:26, 240.30it/s]"
     ]
    },
    {
     "name": "stderr",
     "output_type": "stream",
     "text": [
      "\r 20%|█▉        | 1596/8000 [00:06<00:25, 249.01it/s]"
     ]
    },
    {
     "name": "stderr",
     "output_type": "stream",
     "text": [
      "\r 20%|██        | 1625/8000 [00:06<00:24, 258.97it/s]"
     ]
    },
    {
     "name": "stderr",
     "output_type": "stream",
     "text": [
      "\r 21%|██        | 1652/8000 [00:06<00:25, 248.07it/s]"
     ]
    },
    {
     "name": "stderr",
     "output_type": "stream",
     "text": [
      "\r 21%|██        | 1678/8000 [00:06<00:25, 251.40it/s]"
     ]
    },
    {
     "name": "stderr",
     "output_type": "stream",
     "text": [
      "\r 21%|██▏       | 1704/8000 [00:06<00:26, 238.97it/s]"
     ]
    },
    {
     "name": "stderr",
     "output_type": "stream",
     "text": [
      "\r 22%|██▏       | 1729/8000 [00:07<00:27, 231.46it/s]"
     ]
    },
    {
     "name": "stderr",
     "output_type": "stream",
     "text": [
      "\r 22%|██▏       | 1753/8000 [00:07<00:27, 230.86it/s]"
     ]
    },
    {
     "name": "stderr",
     "output_type": "stream",
     "text": [
      "\r 22%|██▏       | 1777/8000 [00:07<00:27, 228.86it/s]"
     ]
    },
    {
     "name": "stderr",
     "output_type": "stream",
     "text": [
      "\r 23%|██▎       | 1801/8000 [00:07<00:27, 229.47it/s]"
     ]
    },
    {
     "name": "stderr",
     "output_type": "stream",
     "text": [
      "\r 23%|██▎       | 1826/8000 [00:07<00:26, 234.53it/s]"
     ]
    },
    {
     "name": "stderr",
     "output_type": "stream",
     "text": [
      "\r 23%|██▎       | 1850/8000 [00:07<00:26, 232.24it/s]"
     ]
    },
    {
     "name": "stderr",
     "output_type": "stream",
     "text": [
      "\r 24%|██▎       | 1880/8000 [00:07<00:24, 246.52it/s]"
     ]
    },
    {
     "name": "stderr",
     "output_type": "stream",
     "text": [
      "\r 24%|██▍       | 1905/8000 [00:07<00:25, 242.29it/s]"
     ]
    },
    {
     "name": "stderr",
     "output_type": "stream",
     "text": [
      "\r 24%|██▍       | 1931/8000 [00:07<00:24, 246.15it/s]"
     ]
    },
    {
     "name": "stderr",
     "output_type": "stream",
     "text": [
      "\r 24%|██▍       | 1957/8000 [00:07<00:24, 248.00it/s]"
     ]
    },
    {
     "name": "stderr",
     "output_type": "stream",
     "text": [
      "\r 25%|██▍       | 1985/8000 [00:08<00:23, 255.32it/s]"
     ]
    },
    {
     "name": "stderr",
     "output_type": "stream",
     "text": [
      "\r 25%|██▌       | 2011/8000 [00:08<00:24, 248.16it/s]"
     ]
    },
    {
     "name": "stderr",
     "output_type": "stream",
     "text": [
      "\r 25%|██▌       | 2036/8000 [00:08<00:24, 247.44it/s]"
     ]
    },
    {
     "name": "stderr",
     "output_type": "stream",
     "text": [
      "\r 26%|██▌       | 2061/8000 [00:08<00:24, 243.83it/s]"
     ]
    },
    {
     "name": "stderr",
     "output_type": "stream",
     "text": [
      "\r 26%|██▌       | 2086/8000 [00:08<00:24, 245.63it/s]"
     ]
    },
    {
     "name": "stderr",
     "output_type": "stream",
     "text": [
      "\r 26%|██▋       | 2112/8000 [00:08<00:23, 248.29it/s]"
     ]
    },
    {
     "name": "stderr",
     "output_type": "stream",
     "text": [
      "\r 27%|██▋       | 2139/8000 [00:08<00:23, 251.95it/s]"
     ]
    },
    {
     "name": "stderr",
     "output_type": "stream",
     "text": [
      "\r 27%|██▋       | 2165/8000 [00:08<00:23, 251.69it/s]"
     ]
    },
    {
     "name": "stderr",
     "output_type": "stream",
     "text": [
      "\r 27%|██▋       | 2195/8000 [00:08<00:22, 262.75it/s]"
     ]
    },
    {
     "name": "stderr",
     "output_type": "stream",
     "text": [
      "\r 28%|██▊       | 2222/8000 [00:09<00:22, 259.08it/s]"
     ]
    },
    {
     "name": "stderr",
     "output_type": "stream",
     "text": [
      "\r 28%|██▊       | 2250/8000 [00:09<00:21, 262.26it/s]"
     ]
    },
    {
     "name": "stderr",
     "output_type": "stream",
     "text": [
      "\r 28%|██▊       | 2277/8000 [00:09<00:22, 252.00it/s]"
     ]
    },
    {
     "name": "stderr",
     "output_type": "stream",
     "text": [
      "\r 29%|██▉       | 2303/8000 [00:09<00:23, 241.80it/s]"
     ]
    },
    {
     "name": "stderr",
     "output_type": "stream",
     "text": [
      "\r 29%|██▉       | 2333/8000 [00:09<00:22, 256.12it/s]"
     ]
    },
    {
     "name": "stderr",
     "output_type": "stream",
     "text": [
      "\r 29%|██▉       | 2359/8000 [00:09<00:22, 253.02it/s]"
     ]
    },
    {
     "name": "stderr",
     "output_type": "stream",
     "text": [
      "\r 30%|██▉       | 2385/8000 [00:09<00:22, 248.52it/s]"
     ]
    },
    {
     "name": "stderr",
     "output_type": "stream",
     "text": [
      "\r 30%|███       | 2411/8000 [00:09<00:22, 243.22it/s]"
     ]
    },
    {
     "name": "stderr",
     "output_type": "stream",
     "text": [
      "\r 30%|███       | 2436/8000 [00:09<00:22, 244.55it/s]"
     ]
    },
    {
     "name": "stderr",
     "output_type": "stream",
     "text": [
      "\r 31%|███       | 2461/8000 [00:09<00:22, 245.29it/s]"
     ]
    },
    {
     "name": "stderr",
     "output_type": "stream",
     "text": [
      "\r 31%|███       | 2490/8000 [00:10<00:21, 255.13it/s]"
     ]
    },
    {
     "name": "stderr",
     "output_type": "stream",
     "text": [
      "\r 31%|███▏      | 2516/8000 [00:10<00:21, 251.98it/s]"
     ]
    },
    {
     "name": "stderr",
     "output_type": "stream",
     "text": [
      "\r 32%|███▏      | 2542/8000 [00:10<00:23, 235.77it/s]"
     ]
    },
    {
     "name": "stderr",
     "output_type": "stream",
     "text": [
      "\r 32%|███▏      | 2575/8000 [00:10<00:21, 257.35it/s]"
     ]
    },
    {
     "name": "stderr",
     "output_type": "stream",
     "text": [
      "\r 33%|███▎      | 2602/8000 [00:10<00:20, 260.32it/s]"
     ]
    },
    {
     "name": "stderr",
     "output_type": "stream",
     "text": [
      "\r 33%|███▎      | 2629/8000 [00:10<00:20, 260.33it/s]"
     ]
    },
    {
     "name": "stderr",
     "output_type": "stream",
     "text": [
      "\r 33%|███▎      | 2658/8000 [00:10<00:19, 267.57it/s]"
     ]
    },
    {
     "name": "stderr",
     "output_type": "stream",
     "text": [
      "\r 34%|███▎      | 2686/8000 [00:10<00:19, 267.25it/s]"
     ]
    },
    {
     "name": "stderr",
     "output_type": "stream",
     "text": [
      "\r 34%|███▍      | 2713/8000 [00:10<00:20, 257.13it/s]"
     ]
    },
    {
     "name": "stderr",
     "output_type": "stream",
     "text": [
      "\r 34%|███▍      | 2739/8000 [00:11<00:21, 250.10it/s]"
     ]
    },
    {
     "name": "stderr",
     "output_type": "stream",
     "text": [
      "\r 35%|███▍      | 2767/8000 [00:11<00:20, 256.17it/s]"
     ]
    },
    {
     "name": "stderr",
     "output_type": "stream",
     "text": [
      "\r 35%|███▍      | 2793/8000 [00:11<00:20, 251.77it/s]"
     ]
    },
    {
     "name": "stderr",
     "output_type": "stream",
     "text": [
      "\r 35%|███▌      | 2819/8000 [00:11<00:20, 250.58it/s]"
     ]
    },
    {
     "name": "stderr",
     "output_type": "stream",
     "text": [
      "\r 36%|███▌      | 2845/8000 [00:11<00:21, 245.37it/s]"
     ]
    },
    {
     "name": "stderr",
     "output_type": "stream",
     "text": [
      "\r 36%|███▌      | 2870/8000 [00:11<00:21, 243.41it/s]"
     ]
    },
    {
     "name": "stderr",
     "output_type": "stream",
     "text": [
      "\r 36%|███▋      | 2900/8000 [00:11<00:19, 257.50it/s]"
     ]
    },
    {
     "name": "stderr",
     "output_type": "stream",
     "text": [
      "\r 37%|███▋      | 2927/8000 [00:11<00:20, 252.71it/s]"
     ]
    },
    {
     "name": "stderr",
     "output_type": "stream",
     "text": [
      "\r 37%|███▋      | 2953/8000 [00:11<00:20, 251.66it/s]"
     ]
    },
    {
     "name": "stderr",
     "output_type": "stream",
     "text": [
      "\r 37%|███▋      | 2979/8000 [00:11<00:20, 249.05it/s]"
     ]
    },
    {
     "name": "stderr",
     "output_type": "stream",
     "text": [
      "\r 38%|███▊      | 3005/8000 [00:12<00:20, 242.59it/s]"
     ]
    },
    {
     "name": "stderr",
     "output_type": "stream",
     "text": [
      "\r 38%|███▊      | 3032/8000 [00:12<00:19, 248.93it/s]"
     ]
    },
    {
     "name": "stderr",
     "output_type": "stream",
     "text": [
      "\r 38%|███▊      | 3058/8000 [00:12<00:19, 247.38it/s]"
     ]
    },
    {
     "name": "stderr",
     "output_type": "stream",
     "text": [
      "\r 39%|███▊      | 3085/8000 [00:12<00:19, 253.60it/s]"
     ]
    },
    {
     "name": "stderr",
     "output_type": "stream",
     "text": [
      "\r 39%|███▉      | 3111/8000 [00:12<00:19, 245.21it/s]"
     ]
    },
    {
     "name": "stderr",
     "output_type": "stream",
     "text": [
      "\r 39%|███▉      | 3136/8000 [00:12<00:20, 238.57it/s]"
     ]
    },
    {
     "name": "stderr",
     "output_type": "stream",
     "text": [
      "\r 40%|███▉      | 3160/8000 [00:12<00:20, 234.46it/s]"
     ]
    },
    {
     "name": "stderr",
     "output_type": "stream",
     "text": [
      "\r 40%|███▉      | 3185/8000 [00:12<00:20, 236.58it/s]"
     ]
    },
    {
     "name": "stderr",
     "output_type": "stream",
     "text": [
      "\r 40%|████      | 3211/8000 [00:12<00:19, 242.74it/s]"
     ]
    },
    {
     "name": "stderr",
     "output_type": "stream",
     "text": [
      "\r 40%|████      | 3237/8000 [00:13<00:19, 245.35it/s]"
     ]
    },
    {
     "name": "stderr",
     "output_type": "stream",
     "text": [
      "\r 41%|████      | 3263/8000 [00:13<00:19, 248.05it/s]"
     ]
    },
    {
     "name": "stderr",
     "output_type": "stream",
     "text": [
      "\r 41%|████      | 3288/8000 [00:13<00:19, 244.40it/s]"
     ]
    },
    {
     "name": "stderr",
     "output_type": "stream",
     "text": [
      "\r 41%|████▏     | 3315/8000 [00:13<00:18, 250.02it/s]"
     ]
    },
    {
     "name": "stderr",
     "output_type": "stream",
     "text": [
      "\r 42%|████▏     | 3341/8000 [00:13<00:19, 237.41it/s]"
     ]
    },
    {
     "name": "stderr",
     "output_type": "stream",
     "text": [
      "\r 42%|████▏     | 3365/8000 [00:13<00:19, 238.16it/s]"
     ]
    },
    {
     "name": "stderr",
     "output_type": "stream",
     "text": [
      "\r 42%|████▏     | 3391/8000 [00:13<00:19, 242.02it/s]"
     ]
    },
    {
     "name": "stderr",
     "output_type": "stream",
     "text": [
      "\r 43%|████▎     | 3417/8000 [00:13<00:18, 246.02it/s]"
     ]
    },
    {
     "name": "stderr",
     "output_type": "stream",
     "text": [
      "\r 43%|████▎     | 3442/8000 [00:13<00:19, 239.47it/s]"
     ]
    },
    {
     "name": "stderr",
     "output_type": "stream",
     "text": [
      "\r 43%|████▎     | 3468/8000 [00:14<00:18, 242.80it/s]"
     ]
    },
    {
     "name": "stderr",
     "output_type": "stream",
     "text": [
      "\r 44%|████▎     | 3493/8000 [00:14<00:19, 236.00it/s]"
     ]
    },
    {
     "name": "stderr",
     "output_type": "stream",
     "text": [
      "\r 44%|████▍     | 3519/8000 [00:14<00:18, 241.69it/s]"
     ]
    },
    {
     "name": "stderr",
     "output_type": "stream",
     "text": [
      "\r 44%|████▍     | 3545/8000 [00:14<00:18, 244.47it/s]"
     ]
    },
    {
     "name": "stderr",
     "output_type": "stream",
     "text": [
      "\r 45%|████▍     | 3570/8000 [00:14<00:18, 234.93it/s]"
     ]
    },
    {
     "name": "stderr",
     "output_type": "stream",
     "text": [
      "\r 45%|████▍     | 3596/8000 [00:14<00:18, 240.52it/s]"
     ]
    },
    {
     "name": "stderr",
     "output_type": "stream",
     "text": [
      "\r 45%|████▌     | 3621/8000 [00:14<00:18, 234.11it/s]"
     ]
    },
    {
     "name": "stderr",
     "output_type": "stream",
     "text": [
      "\r 46%|████▌     | 3647/8000 [00:14<00:18, 241.21it/s]"
     ]
    },
    {
     "name": "stderr",
     "output_type": "stream",
     "text": [
      "\r 46%|████▌     | 3672/8000 [00:14<00:18, 234.18it/s]"
     ]
    },
    {
     "name": "stderr",
     "output_type": "stream",
     "text": [
      "\r 46%|████▌     | 3699/8000 [00:14<00:17, 243.07it/s]"
     ]
    },
    {
     "name": "stderr",
     "output_type": "stream",
     "text": [
      "\r 47%|████▋     | 3727/8000 [00:15<00:17, 250.87it/s]"
     ]
    },
    {
     "name": "stderr",
     "output_type": "stream",
     "text": [
      "\r 47%|████▋     | 3753/8000 [00:15<00:17, 249.17it/s]"
     ]
    },
    {
     "name": "stderr",
     "output_type": "stream",
     "text": [
      "\r 47%|████▋     | 3780/8000 [00:15<00:16, 252.91it/s]"
     ]
    },
    {
     "name": "stderr",
     "output_type": "stream",
     "text": [
      "\r 48%|████▊     | 3806/8000 [00:15<00:16, 254.88it/s]"
     ]
    },
    {
     "name": "stderr",
     "output_type": "stream",
     "text": [
      "\r 48%|████▊     | 3832/8000 [00:15<00:16, 251.79it/s]"
     ]
    },
    {
     "name": "stderr",
     "output_type": "stream",
     "text": [
      "\r 48%|████▊     | 3858/8000 [00:15<00:16, 252.00it/s]"
     ]
    },
    {
     "name": "stderr",
     "output_type": "stream",
     "text": [
      "\r 49%|████▊     | 3884/8000 [00:15<00:16, 248.12it/s]"
     ]
    },
    {
     "name": "stderr",
     "output_type": "stream",
     "text": [
      "\r 49%|████▉     | 3911/8000 [00:15<00:16, 252.89it/s]"
     ]
    },
    {
     "name": "stderr",
     "output_type": "stream",
     "text": [
      "\r 49%|████▉     | 3937/8000 [00:15<00:16, 247.35it/s]"
     ]
    },
    {
     "name": "stderr",
     "output_type": "stream",
     "text": [
      "\r 50%|████▉     | 3962/8000 [00:16<00:16, 245.03it/s]"
     ]
    },
    {
     "name": "stderr",
     "output_type": "stream",
     "text": [
      "\r 50%|████▉     | 3987/8000 [00:16<00:16, 242.46it/s]"
     ]
    },
    {
     "name": "stderr",
     "output_type": "stream",
     "text": [
      "\r 50%|█████     | 4012/8000 [00:16<00:16, 242.49it/s]"
     ]
    },
    {
     "name": "stderr",
     "output_type": "stream",
     "text": [
      "\r 50%|█████     | 4038/8000 [00:16<00:16, 245.22it/s]"
     ]
    },
    {
     "name": "stderr",
     "output_type": "stream",
     "text": [
      "\r 51%|█████     | 4063/8000 [00:16<00:16, 243.71it/s]"
     ]
    },
    {
     "name": "stderr",
     "output_type": "stream",
     "text": [
      "\r 51%|█████     | 4091/8000 [00:16<00:15, 251.91it/s]"
     ]
    },
    {
     "name": "stderr",
     "output_type": "stream",
     "text": [
      "\r 51%|█████▏    | 4118/8000 [00:16<00:15, 254.28it/s]"
     ]
    },
    {
     "name": "stderr",
     "output_type": "stream",
     "text": [
      "\r 52%|█████▏    | 4144/8000 [00:16<00:15, 249.00it/s]"
     ]
    },
    {
     "name": "stderr",
     "output_type": "stream",
     "text": [
      "\r 52%|█████▏    | 4171/8000 [00:16<00:15, 252.92it/s]"
     ]
    },
    {
     "name": "stderr",
     "output_type": "stream",
     "text": [
      "\r 52%|█████▏    | 4197/8000 [00:16<00:15, 251.84it/s]"
     ]
    },
    {
     "name": "stderr",
     "output_type": "stream",
     "text": [
      "\r 53%|█████▎    | 4223/8000 [00:17<00:14, 253.26it/s]"
     ]
    },
    {
     "name": "stderr",
     "output_type": "stream",
     "text": [
      "\r 53%|█████▎    | 4249/8000 [00:17<00:15, 245.86it/s]"
     ]
    },
    {
     "name": "stderr",
     "output_type": "stream",
     "text": [
      "\r 53%|█████▎    | 4274/8000 [00:17<00:15, 237.99it/s]"
     ]
    },
    {
     "name": "stderr",
     "output_type": "stream",
     "text": [
      "\r 54%|█████▎    | 4299/8000 [00:17<00:15, 241.13it/s]"
     ]
    },
    {
     "name": "stderr",
     "output_type": "stream",
     "text": [
      "\r 54%|█████▍    | 4326/8000 [00:17<00:14, 248.78it/s]"
     ]
    },
    {
     "name": "stderr",
     "output_type": "stream",
     "text": [
      "\r 54%|█████▍    | 4352/8000 [00:17<00:14, 249.93it/s]"
     ]
    },
    {
     "name": "stderr",
     "output_type": "stream",
     "text": [
      "\r 55%|█████▍    | 4378/8000 [00:17<00:14, 248.88it/s]"
     ]
    },
    {
     "name": "stderr",
     "output_type": "stream",
     "text": [
      "\r 55%|█████▌    | 4403/8000 [00:17<00:14, 246.50it/s]"
     ]
    },
    {
     "name": "stderr",
     "output_type": "stream",
     "text": [
      "\r 55%|█████▌    | 4428/8000 [00:17<00:14, 244.00it/s]"
     ]
    },
    {
     "name": "stderr",
     "output_type": "stream",
     "text": [
      "\r 56%|█████▌    | 4455/8000 [00:18<00:14, 250.89it/s]"
     ]
    },
    {
     "name": "stderr",
     "output_type": "stream",
     "text": [
      "\r 56%|█████▌    | 4481/8000 [00:18<00:14, 247.66it/s]"
     ]
    },
    {
     "name": "stderr",
     "output_type": "stream",
     "text": [
      "\r 56%|█████▋    | 4506/8000 [00:18<00:14, 246.62it/s]"
     ]
    },
    {
     "name": "stderr",
     "output_type": "stream",
     "text": [
      "\r 57%|█████▋    | 4531/8000 [00:18<00:14, 245.38it/s]"
     ]
    },
    {
     "name": "stderr",
     "output_type": "stream",
     "text": [
      "\r 57%|█████▋    | 4556/8000 [00:18<00:14, 234.42it/s]"
     ]
    },
    {
     "name": "stderr",
     "output_type": "stream",
     "text": [
      "\r 57%|█████▋    | 4580/8000 [00:18<00:14, 231.55it/s]"
     ]
    },
    {
     "name": "stderr",
     "output_type": "stream",
     "text": [
      "\r 58%|█████▊    | 4610/8000 [00:18<00:13, 246.86it/s]"
     ]
    },
    {
     "name": "stderr",
     "output_type": "stream",
     "text": [
      "\r 58%|█████▊    | 4636/8000 [00:18<00:13, 249.19it/s]"
     ]
    },
    {
     "name": "stderr",
     "output_type": "stream",
     "text": [
      "\r 58%|█████▊    | 4662/8000 [00:18<00:13, 245.72it/s]"
     ]
    },
    {
     "name": "stderr",
     "output_type": "stream",
     "text": [
      "\r 59%|█████▊    | 4687/8000 [00:18<00:13, 245.78it/s]"
     ]
    },
    {
     "name": "stderr",
     "output_type": "stream",
     "text": [
      "\r 59%|█████▉    | 4712/8000 [00:19<00:13, 241.87it/s]"
     ]
    },
    {
     "name": "stderr",
     "output_type": "stream",
     "text": [
      "\r 59%|█████▉    | 4737/8000 [00:19<00:13, 240.15it/s]"
     ]
    },
    {
     "name": "stderr",
     "output_type": "stream",
     "text": [
      "\r 60%|█████▉    | 4762/8000 [00:19<00:13, 232.65it/s]"
     ]
    },
    {
     "name": "stderr",
     "output_type": "stream",
     "text": [
      "\r 60%|█████▉    | 4788/8000 [00:19<00:13, 240.06it/s]"
     ]
    },
    {
     "name": "stderr",
     "output_type": "stream",
     "text": [
      "\r 60%|██████    | 4815/8000 [00:19<00:12, 247.37it/s]"
     ]
    },
    {
     "name": "stderr",
     "output_type": "stream",
     "text": [
      "\r 61%|██████    | 4841/8000 [00:19<00:12, 250.51it/s]"
     ]
    },
    {
     "name": "stderr",
     "output_type": "stream",
     "text": [
      "\r 61%|██████    | 4869/8000 [00:19<00:12, 258.19it/s]"
     ]
    },
    {
     "name": "stderr",
     "output_type": "stream",
     "text": [
      "\r 61%|██████    | 4895/8000 [00:19<00:12, 249.24it/s]"
     ]
    },
    {
     "name": "stderr",
     "output_type": "stream",
     "text": [
      "\r 62%|██████▏   | 4921/8000 [00:19<00:12, 244.36it/s]"
     ]
    },
    {
     "name": "stderr",
     "output_type": "stream",
     "text": [
      "\r 62%|██████▏   | 4948/8000 [00:20<00:12, 250.60it/s]"
     ]
    },
    {
     "name": "stderr",
     "output_type": "stream",
     "text": [
      "\r 62%|██████▏   | 4974/8000 [00:20<00:12, 242.76it/s]"
     ]
    },
    {
     "name": "stderr",
     "output_type": "stream",
     "text": [
      "\r 62%|██████▎   | 5000/8000 [00:20<00:12, 246.87it/s]"
     ]
    },
    {
     "name": "stderr",
     "output_type": "stream",
     "text": [
      "\r 63%|██████▎   | 5025/8000 [00:20<00:12, 245.83it/s]"
     ]
    },
    {
     "name": "stderr",
     "output_type": "stream",
     "text": [
      "\r 63%|██████▎   | 5051/8000 [00:20<00:11, 248.12it/s]"
     ]
    },
    {
     "name": "stderr",
     "output_type": "stream",
     "text": [
      "\r 63%|██████▎   | 5078/8000 [00:20<00:11, 251.74it/s]"
     ]
    },
    {
     "name": "stderr",
     "output_type": "stream",
     "text": [
      "\r 64%|██████▍   | 5104/8000 [00:20<00:11, 252.20it/s]"
     ]
    },
    {
     "name": "stderr",
     "output_type": "stream",
     "text": [
      "\r 64%|██████▍   | 5130/8000 [00:20<00:11, 252.73it/s]"
     ]
    },
    {
     "name": "stderr",
     "output_type": "stream",
     "text": [
      "\r 64%|██████▍   | 5159/8000 [00:20<00:10, 261.55it/s]"
     ]
    },
    {
     "name": "stderr",
     "output_type": "stream",
     "text": [
      "\r 65%|██████▍   | 5186/8000 [00:20<00:10, 259.02it/s]"
     ]
    },
    {
     "name": "stderr",
     "output_type": "stream",
     "text": [
      "\r 65%|██████▌   | 5212/8000 [00:21<00:11, 251.98it/s]"
     ]
    },
    {
     "name": "stderr",
     "output_type": "stream",
     "text": [
      "\r 65%|██████▌   | 5238/8000 [00:21<00:11, 248.72it/s]"
     ]
    },
    {
     "name": "stderr",
     "output_type": "stream",
     "text": [
      "\r 66%|██████▌   | 5263/8000 [00:21<00:11, 238.91it/s]"
     ]
    },
    {
     "name": "stderr",
     "output_type": "stream",
     "text": [
      "\r 66%|██████▌   | 5288/8000 [00:21<00:11, 237.13it/s]"
     ]
    },
    {
     "name": "stderr",
     "output_type": "stream",
     "text": [
      "\r 66%|██████▋   | 5312/8000 [00:21<00:11, 234.09it/s]"
     ]
    },
    {
     "name": "stderr",
     "output_type": "stream",
     "text": [
      "\r 67%|██████▋   | 5336/8000 [00:21<00:11, 232.92it/s]"
     ]
    },
    {
     "name": "stderr",
     "output_type": "stream",
     "text": [
      "\r 67%|██████▋   | 5360/8000 [00:21<00:11, 230.04it/s]"
     ]
    },
    {
     "name": "stderr",
     "output_type": "stream",
     "text": [
      "\r 67%|██████▋   | 5388/8000 [00:21<00:10, 241.96it/s]"
     ]
    },
    {
     "name": "stderr",
     "output_type": "stream",
     "text": [
      "\r 68%|██████▊   | 5413/8000 [00:21<00:10, 239.94it/s]"
     ]
    },
    {
     "name": "stderr",
     "output_type": "stream",
     "text": [
      "\r 68%|██████▊   | 5438/8000 [00:22<00:10, 236.90it/s]"
     ]
    },
    {
     "name": "stderr",
     "output_type": "stream",
     "text": [
      "\r 68%|██████▊   | 5464/8000 [00:22<00:10, 241.98it/s]"
     ]
    },
    {
     "name": "stderr",
     "output_type": "stream",
     "text": [
      "\r 69%|██████▊   | 5489/8000 [00:22<00:10, 241.12it/s]"
     ]
    },
    {
     "name": "stderr",
     "output_type": "stream",
     "text": [
      "\r 69%|██████▉   | 5515/8000 [00:22<00:10, 245.24it/s]"
     ]
    },
    {
     "name": "stderr",
     "output_type": "stream",
     "text": [
      "\r 69%|██████▉   | 5544/8000 [00:22<00:09, 254.99it/s]"
     ]
    },
    {
     "name": "stderr",
     "output_type": "stream",
     "text": [
      "\r 70%|██████▉   | 5572/8000 [00:22<00:09, 260.68it/s]"
     ]
    },
    {
     "name": "stderr",
     "output_type": "stream",
     "text": [
      "\r 70%|██████▉   | 5599/8000 [00:22<00:09, 254.44it/s]"
     ]
    },
    {
     "name": "stderr",
     "output_type": "stream",
     "text": [
      "\r 70%|███████   | 5625/8000 [00:22<00:09, 255.45it/s]"
     ]
    },
    {
     "name": "stderr",
     "output_type": "stream",
     "text": [
      "\r 71%|███████   | 5651/8000 [00:22<00:09, 255.74it/s]"
     ]
    },
    {
     "name": "stderr",
     "output_type": "stream",
     "text": [
      "\r 71%|███████   | 5678/8000 [00:22<00:08, 258.42it/s]"
     ]
    },
    {
     "name": "stderr",
     "output_type": "stream",
     "text": [
      "\r 71%|███████▏  | 5704/8000 [00:23<00:09, 249.71it/s]"
     ]
    },
    {
     "name": "stderr",
     "output_type": "stream",
     "text": [
      "\r 72%|███████▏  | 5730/8000 [00:23<00:09, 249.64it/s]"
     ]
    },
    {
     "name": "stderr",
     "output_type": "stream",
     "text": [
      "\r 72%|███████▏  | 5756/8000 [00:23<00:08, 250.77it/s]"
     ]
    },
    {
     "name": "stderr",
     "output_type": "stream",
     "text": [
      "\r 72%|███████▏  | 5782/8000 [00:23<00:09, 244.97it/s]"
     ]
    },
    {
     "name": "stderr",
     "output_type": "stream",
     "text": [
      "\r 73%|███████▎  | 5808/8000 [00:23<00:08, 248.17it/s]"
     ]
    },
    {
     "name": "stderr",
     "output_type": "stream",
     "text": [
      "\r 73%|███████▎  | 5833/8000 [00:23<00:09, 235.84it/s]"
     ]
    },
    {
     "name": "stderr",
     "output_type": "stream",
     "text": [
      "\r 73%|███████▎  | 5857/8000 [00:23<00:09, 231.83it/s]"
     ]
    },
    {
     "name": "stderr",
     "output_type": "stream",
     "text": [
      "\r 74%|███████▎  | 5884/8000 [00:23<00:08, 240.61it/s]"
     ]
    },
    {
     "name": "stderr",
     "output_type": "stream",
     "text": [
      "\r 74%|███████▍  | 5909/8000 [00:23<00:08, 240.53it/s]"
     ]
    },
    {
     "name": "stderr",
     "output_type": "stream",
     "text": [
      "\r 74%|███████▍  | 5935/8000 [00:24<00:08, 244.60it/s]"
     ]
    },
    {
     "name": "stderr",
     "output_type": "stream",
     "text": [
      "\r 74%|███████▍  | 5960/8000 [00:24<00:08, 228.27it/s]"
     ]
    },
    {
     "name": "stderr",
     "output_type": "stream",
     "text": [
      "\r 75%|███████▍  | 5985/8000 [00:24<00:08, 233.73it/s]"
     ]
    },
    {
     "name": "stderr",
     "output_type": "stream",
     "text": [
      "\r 75%|███████▌  | 6009/8000 [00:24<00:08, 230.42it/s]"
     ]
    },
    {
     "name": "stderr",
     "output_type": "stream",
     "text": [
      "\r 75%|███████▌  | 6034/8000 [00:24<00:08, 235.20it/s]"
     ]
    },
    {
     "name": "stderr",
     "output_type": "stream",
     "text": [
      "\r 76%|███████▌  | 6065/8000 [00:24<00:07, 252.32it/s]"
     ]
    },
    {
     "name": "stderr",
     "output_type": "stream",
     "text": [
      "\r 76%|███████▌  | 6093/8000 [00:24<00:07, 258.18it/s]"
     ]
    },
    {
     "name": "stderr",
     "output_type": "stream",
     "text": [
      "\r 76%|███████▋  | 6120/8000 [00:24<00:07, 254.37it/s]"
     ]
    },
    {
     "name": "stderr",
     "output_type": "stream",
     "text": [
      "\r 77%|███████▋  | 6146/8000 [00:24<00:07, 251.45it/s]"
     ]
    },
    {
     "name": "stderr",
     "output_type": "stream",
     "text": [
      "\r 77%|███████▋  | 6172/8000 [00:24<00:07, 242.32it/s]"
     ]
    },
    {
     "name": "stderr",
     "output_type": "stream",
     "text": [
      "\r 77%|███████▋  | 6197/8000 [00:25<00:07, 243.29it/s]"
     ]
    },
    {
     "name": "stderr",
     "output_type": "stream",
     "text": [
      "\r 78%|███████▊  | 6226/8000 [00:25<00:06, 255.04it/s]"
     ]
    },
    {
     "name": "stderr",
     "output_type": "stream",
     "text": [
      "\r 78%|███████▊  | 6252/8000 [00:25<00:07, 244.55it/s]"
     ]
    },
    {
     "name": "stderr",
     "output_type": "stream",
     "text": [
      "\r 78%|███████▊  | 6277/8000 [00:25<00:07, 245.96it/s]"
     ]
    },
    {
     "name": "stderr",
     "output_type": "stream",
     "text": [
      "\r 79%|███████▉  | 6302/8000 [00:25<00:06, 245.85it/s]"
     ]
    },
    {
     "name": "stderr",
     "output_type": "stream",
     "text": [
      "\r 79%|███████▉  | 6328/8000 [00:25<00:06, 247.83it/s]"
     ]
    },
    {
     "name": "stderr",
     "output_type": "stream",
     "text": [
      "\r 79%|███████▉  | 6353/8000 [00:25<00:06, 240.48it/s]"
     ]
    },
    {
     "name": "stderr",
     "output_type": "stream",
     "text": [
      "\r 80%|███████▉  | 6378/8000 [00:25<00:07, 227.60it/s]"
     ]
    },
    {
     "name": "stderr",
     "output_type": "stream",
     "text": [
      "\r 80%|████████  | 6401/8000 [00:25<00:07, 225.84it/s]"
     ]
    },
    {
     "name": "stderr",
     "output_type": "stream",
     "text": [
      "\r 80%|████████  | 6424/8000 [00:26<00:07, 221.82it/s]"
     ]
    },
    {
     "name": "stderr",
     "output_type": "stream",
     "text": [
      "\r 81%|████████  | 6451/8000 [00:26<00:06, 232.66it/s]"
     ]
    },
    {
     "name": "stderr",
     "output_type": "stream",
     "text": [
      "\r 81%|████████  | 6477/8000 [00:26<00:06, 238.53it/s]"
     ]
    },
    {
     "name": "stderr",
     "output_type": "stream",
     "text": [
      "\r 81%|████████▏ | 6506/8000 [00:26<00:05, 251.83it/s]"
     ]
    },
    {
     "name": "stderr",
     "output_type": "stream",
     "text": [
      "\r 82%|████████▏ | 6532/8000 [00:26<00:06, 234.03it/s]"
     ]
    },
    {
     "name": "stderr",
     "output_type": "stream",
     "text": [
      "\r 82%|████████▏ | 6556/8000 [00:26<00:06, 227.03it/s]"
     ]
    },
    {
     "name": "stderr",
     "output_type": "stream",
     "text": [
      "\r 82%|████████▏ | 6585/8000 [00:26<00:05, 240.44it/s]"
     ]
    },
    {
     "name": "stderr",
     "output_type": "stream",
     "text": [
      "\r 83%|████████▎ | 6610/8000 [00:26<00:05, 233.50it/s]"
     ]
    },
    {
     "name": "stderr",
     "output_type": "stream",
     "text": [
      "\r 83%|████████▎ | 6637/8000 [00:26<00:05, 241.31it/s]"
     ]
    },
    {
     "name": "stderr",
     "output_type": "stream",
     "text": [
      "\r 83%|████████▎ | 6663/8000 [00:27<00:05, 246.44it/s]"
     ]
    },
    {
     "name": "stderr",
     "output_type": "stream",
     "text": [
      "\r 84%|████████▎ | 6691/8000 [00:27<00:05, 253.75it/s]"
     ]
    },
    {
     "name": "stderr",
     "output_type": "stream",
     "text": [
      "\r 84%|████████▍ | 6717/8000 [00:27<00:05, 243.16it/s]"
     ]
    },
    {
     "name": "stderr",
     "output_type": "stream",
     "text": [
      "\r 84%|████████▍ | 6742/8000 [00:27<00:05, 238.87it/s]"
     ]
    },
    {
     "name": "stderr",
     "output_type": "stream",
     "text": [
      "\r 85%|████████▍ | 6768/8000 [00:27<00:05, 243.17it/s]"
     ]
    },
    {
     "name": "stderr",
     "output_type": "stream",
     "text": [
      "\r 85%|████████▍ | 6793/8000 [00:27<00:05, 239.74it/s]"
     ]
    },
    {
     "name": "stderr",
     "output_type": "stream",
     "text": [
      "\r 85%|████████▌ | 6822/8000 [00:27<00:04, 252.62it/s]"
     ]
    },
    {
     "name": "stderr",
     "output_type": "stream",
     "text": [
      "\r 86%|████████▌ | 6848/8000 [00:27<00:04, 243.92it/s]"
     ]
    },
    {
     "name": "stderr",
     "output_type": "stream",
     "text": [
      "\r 86%|████████▌ | 6873/8000 [00:27<00:04, 242.98it/s]"
     ]
    },
    {
     "name": "stderr",
     "output_type": "stream",
     "text": [
      "\r 86%|████████▌ | 6898/8000 [00:28<00:04, 239.32it/s]"
     ]
    },
    {
     "name": "stderr",
     "output_type": "stream",
     "text": [
      "\r 87%|████████▋ | 6923/8000 [00:28<00:04, 239.64it/s]"
     ]
    },
    {
     "name": "stderr",
     "output_type": "stream",
     "text": [
      "\r 87%|████████▋ | 6948/8000 [00:28<00:04, 237.19it/s]"
     ]
    },
    {
     "name": "stderr",
     "output_type": "stream",
     "text": [
      "\r 87%|████████▋ | 6974/8000 [00:28<00:04, 242.37it/s]"
     ]
    },
    {
     "name": "stderr",
     "output_type": "stream",
     "text": [
      "\r 87%|████████▋ | 6999/8000 [00:28<00:04, 237.06it/s]"
     ]
    },
    {
     "name": "stderr",
     "output_type": "stream",
     "text": [
      "\r 88%|████████▊ | 7024/8000 [00:28<00:04, 238.62it/s]"
     ]
    },
    {
     "name": "stderr",
     "output_type": "stream",
     "text": [
      "\r 88%|████████▊ | 7048/8000 [00:28<00:04, 234.99it/s]"
     ]
    },
    {
     "name": "stderr",
     "output_type": "stream",
     "text": [
      "\r 88%|████████▊ | 7072/8000 [00:28<00:04, 231.71it/s]"
     ]
    },
    {
     "name": "stderr",
     "output_type": "stream",
     "text": [
      "\r 89%|████████▊ | 7099/8000 [00:28<00:03, 239.99it/s]"
     ]
    },
    {
     "name": "stderr",
     "output_type": "stream",
     "text": [
      "\r 89%|████████▉ | 7127/8000 [00:28<00:03, 249.53it/s]"
     ]
    },
    {
     "name": "stderr",
     "output_type": "stream",
     "text": [
      "\r 89%|████████▉ | 7153/8000 [00:29<00:03, 251.12it/s]"
     ]
    },
    {
     "name": "stderr",
     "output_type": "stream",
     "text": [
      "\r 90%|████████▉ | 7179/8000 [00:29<00:03, 253.17it/s]"
     ]
    },
    {
     "name": "stderr",
     "output_type": "stream",
     "text": [
      "\r 90%|█████████ | 7205/8000 [00:29<00:03, 251.03it/s]"
     ]
    },
    {
     "name": "stderr",
     "output_type": "stream",
     "text": [
      "\r 90%|█████████ | 7231/8000 [00:29<00:03, 251.48it/s]"
     ]
    },
    {
     "name": "stderr",
     "output_type": "stream",
     "text": [
      "\r 91%|█████████ | 7257/8000 [00:29<00:02, 250.55it/s]"
     ]
    },
    {
     "name": "stderr",
     "output_type": "stream",
     "text": [
      "\r 91%|█████████ | 7284/8000 [00:29<00:02, 253.99it/s]"
     ]
    },
    {
     "name": "stderr",
     "output_type": "stream",
     "text": [
      "\r 91%|█████████▏| 7310/8000 [00:29<00:02, 243.92it/s]"
     ]
    },
    {
     "name": "stderr",
     "output_type": "stream",
     "text": [
      "\r 92%|█████████▏| 7340/8000 [00:29<00:02, 257.42it/s]"
     ]
    },
    {
     "name": "stderr",
     "output_type": "stream",
     "text": [
      "\r 92%|█████████▏| 7368/8000 [00:29<00:02, 262.43it/s]"
     ]
    },
    {
     "name": "stderr",
     "output_type": "stream",
     "text": [
      "\r 92%|█████████▏| 7395/8000 [00:29<00:02, 256.53it/s]"
     ]
    },
    {
     "name": "stderr",
     "output_type": "stream",
     "text": [
      "\r 93%|█████████▎| 7421/8000 [00:30<00:02, 253.64it/s]"
     ]
    },
    {
     "name": "stderr",
     "output_type": "stream",
     "text": [
      "\r 93%|█████████▎| 7447/8000 [00:30<00:02, 240.04it/s]"
     ]
    },
    {
     "name": "stderr",
     "output_type": "stream",
     "text": [
      "\r 93%|█████████▎| 7478/8000 [00:30<00:02, 255.55it/s]"
     ]
    },
    {
     "name": "stderr",
     "output_type": "stream",
     "text": [
      "\r 94%|█████████▍| 7505/8000 [00:30<00:01, 255.02it/s]"
     ]
    },
    {
     "name": "stderr",
     "output_type": "stream",
     "text": [
      "\r 94%|█████████▍| 7531/8000 [00:30<00:01, 250.66it/s]"
     ]
    },
    {
     "name": "stderr",
     "output_type": "stream",
     "text": [
      "\r 94%|█████████▍| 7557/8000 [00:30<00:01, 246.79it/s]"
     ]
    },
    {
     "name": "stderr",
     "output_type": "stream",
     "text": [
      "\r 95%|█████████▍| 7582/8000 [00:30<00:01, 235.25it/s]"
     ]
    },
    {
     "name": "stderr",
     "output_type": "stream",
     "text": [
      "\r 95%|█████████▌| 7606/8000 [00:30<00:01, 234.10it/s]"
     ]
    },
    {
     "name": "stderr",
     "output_type": "stream",
     "text": [
      "\r 95%|█████████▌| 7631/8000 [00:30<00:01, 238.33it/s]"
     ]
    },
    {
     "name": "stderr",
     "output_type": "stream",
     "text": [
      "\r 96%|█████████▌| 7658/8000 [00:31<00:01, 244.06it/s]"
     ]
    },
    {
     "name": "stderr",
     "output_type": "stream",
     "text": [
      "\r 96%|█████████▌| 7683/8000 [00:31<00:01, 245.45it/s]"
     ]
    },
    {
     "name": "stderr",
     "output_type": "stream",
     "text": [
      "\r 96%|█████████▋| 7708/8000 [00:31<00:01, 244.42it/s]"
     ]
    },
    {
     "name": "stderr",
     "output_type": "stream",
     "text": [
      "\r 97%|█████████▋| 7733/8000 [00:31<00:01, 231.69it/s]"
     ]
    },
    {
     "name": "stderr",
     "output_type": "stream",
     "text": [
      "\r 97%|█████████▋| 7759/8000 [00:31<00:01, 237.56it/s]"
     ]
    },
    {
     "name": "stderr",
     "output_type": "stream",
     "text": [
      "\r 97%|█████████▋| 7783/8000 [00:31<00:00, 237.22it/s]"
     ]
    },
    {
     "name": "stderr",
     "output_type": "stream",
     "text": [
      "\r 98%|█████████▊| 7807/8000 [00:31<00:00, 235.99it/s]"
     ]
    },
    {
     "name": "stderr",
     "output_type": "stream",
     "text": [
      "\r 98%|█████████▊| 7832/8000 [00:31<00:00, 237.77it/s]"
     ]
    },
    {
     "name": "stderr",
     "output_type": "stream",
     "text": [
      "\r 98%|█████████▊| 7859/8000 [00:31<00:00, 245.23it/s]"
     ]
    },
    {
     "name": "stderr",
     "output_type": "stream",
     "text": [
      "\r 99%|█████████▊| 7884/8000 [00:32<00:00, 239.41it/s]"
     ]
    },
    {
     "name": "stderr",
     "output_type": "stream",
     "text": [
      "\r 99%|█████████▉| 7909/8000 [00:32<00:00, 234.25it/s]"
     ]
    },
    {
     "name": "stderr",
     "output_type": "stream",
     "text": [
      "\r 99%|█████████▉| 7933/8000 [00:32<00:00, 234.26it/s]"
     ]
    },
    {
     "name": "stderr",
     "output_type": "stream",
     "text": [
      "\r 99%|█████████▉| 7958/8000 [00:32<00:00, 237.93it/s]"
     ]
    },
    {
     "name": "stderr",
     "output_type": "stream",
     "text": [
      "\r100%|█████████▉| 7984/8000 [00:32<00:00, 243.36it/s]"
     ]
    },
    {
     "name": "stderr",
     "output_type": "stream",
     "text": [
      "\r100%|██████████| 8000/8000 [00:32<00:00, 246.05it/s]"
     ]
    },
    {
     "name": "stderr",
     "output_type": "stream",
     "text": [
      "\n"
     ]
    },
    {
     "name": "stdout",
     "output_type": "stream",
     "text": [
      " - 72s - loss: 3.1050 - acc: 0.4447 - val_loss: 4.2634 - val_acc: 0.3431\n"
     ]
    },
    {
     "name": "stdout",
     "output_type": "stream",
     "text": [
      "Epoch 2/40\n"
     ]
    },
    {
     "name": "stdout",
     "output_type": "stream",
     "text": [
      " - 34s - loss: 3.0078 - acc: 0.4520 - val_loss: 4.2978 - val_acc: 0.3438\n"
     ]
    },
    {
     "name": "stdout",
     "output_type": "stream",
     "text": [
      "Epoch 3/40\n"
     ]
    },
    {
     "name": "stdout",
     "output_type": "stream",
     "text": [
      " - 34s - loss: 2.9530 - acc: 0.4584 - val_loss: 4.2982 - val_acc: 0.3431\n"
     ]
    },
    {
     "name": "stdout",
     "output_type": "stream",
     "text": [
      "Epoch 4/40\n"
     ]
    },
    {
     "name": "stdout",
     "output_type": "stream",
     "text": [
      " - 34s - loss: 2.9128 - acc: 0.4631 - val_loss: 4.3471 - val_acc: 0.3436\n"
     ]
    },
    {
     "name": "stdout",
     "output_type": "stream",
     "text": [
      "Epoch 5/40\n"
     ]
    },
    {
     "name": "stdout",
     "output_type": "stream",
     "text": [
      " - 34s - loss: 2.8760 - acc: 0.4680 - val_loss: 4.3404 - val_acc: 0.3453\n"
     ]
    },
    {
     "name": "stdout",
     "output_type": "stream",
     "text": [
      "Epoch 6/40\n"
     ]
    },
    {
     "name": "stdout",
     "output_type": "stream",
     "text": [
      " - 34s - loss: 2.8441 - acc: 0.4738 - val_loss: 4.4302 - val_acc: 0.3422\n"
     ]
    },
    {
     "name": "stdout",
     "output_type": "stream",
     "text": [
      "Epoch 7/40\n"
     ]
    },
    {
     "name": "stdout",
     "output_type": "stream",
     "text": [
      " - 34s - loss: 2.8132 - acc: 0.4780 - val_loss: 4.4205 - val_acc: 0.3457\n"
     ]
    },
    {
     "name": "stdout",
     "output_type": "stream",
     "text": [
      "Epoch 8/40\n"
     ]
    },
    {
     "name": "stdout",
     "output_type": "stream",
     "text": [
      " - 34s - loss: 2.7861 - acc: 0.4830 - val_loss: 4.4035 - val_acc: 0.3419\n"
     ]
    },
    {
     "name": "stdout",
     "output_type": "stream",
     "text": [
      "Epoch 9/40\n"
     ]
    },
    {
     "name": "stdout",
     "output_type": "stream",
     "text": [
      " - 34s - loss: 2.7609 - acc: 0.4894 - val_loss: 4.4424 - val_acc: 0.3397\n"
     ]
    },
    {
     "name": "stdout",
     "output_type": "stream",
     "text": [
      "Epoch 10/40\n"
     ]
    },
    {
     "name": "stdout",
     "output_type": "stream",
     "text": [
      " - 34s - loss: 2.7362 - acc: 0.4936 - val_loss: 4.4422 - val_acc: 0.3415\n"
     ]
    },
    {
     "name": "stdout",
     "output_type": "stream",
     "text": [
      "Epoch 11/40\n"
     ]
    },
    {
     "name": "stdout",
     "output_type": "stream",
     "text": [
      " - 34s - loss: 2.7112 - acc: 0.4994 - val_loss: 4.4469 - val_acc: 0.3410\n"
     ]
    },
    {
     "name": "stdout",
     "output_type": "stream",
     "text": [
      "Epoch 12/40\n"
     ]
    },
    {
     "name": "stdout",
     "output_type": "stream",
     "text": [
      " - 34s - loss: 2.6929 - acc: 0.5023 - val_loss: 4.4742 - val_acc: 0.3407\n"
     ]
    },
    {
     "name": "stdout",
     "output_type": "stream",
     "text": [
      "Epoch 13/40\n"
     ]
    },
    {
     "name": "stdout",
     "output_type": "stream",
     "text": [
      " - 34s - loss: 2.6713 - acc: 0.5077 - val_loss: 4.4599 - val_acc: 0.3411\n"
     ]
    },
    {
     "name": "stdout",
     "output_type": "stream",
     "text": [
      "Epoch 14/40\n"
     ]
    },
    {
     "name": "stdout",
     "output_type": "stream",
     "text": [
      " - 34s - loss: 2.6523 - acc: 0.5117 - val_loss: 4.5187 - val_acc: 0.3400\n"
     ]
    },
    {
     "name": "stdout",
     "output_type": "stream",
     "text": [
      "Epoch 15/40\n"
     ]
    },
    {
     "name": "stdout",
     "output_type": "stream",
     "text": [
      " - 34s - loss: 2.6301 - acc: 0.5174 - val_loss: 4.5044 - val_acc: 0.3363\n"
     ]
    },
    {
     "name": "stdout",
     "output_type": "stream",
     "text": [
      "Epoch 16/40\n"
     ]
    },
    {
     "name": "stdout",
     "output_type": "stream",
     "text": [
      " - 34s - loss: 2.6077 - acc: 0.5218 - val_loss: 4.4906 - val_acc: 0.3429\n"
     ]
    },
    {
     "name": "stdout",
     "output_type": "stream",
     "text": [
      "Epoch 17/40\n"
     ]
    },
    {
     "name": "stdout",
     "output_type": "stream",
     "text": [
      " - 34s - loss: 2.5899 - acc: 0.5258 - val_loss: 4.4937 - val_acc: 0.3448\n"
     ]
    },
    {
     "name": "stdout",
     "output_type": "stream",
     "text": [
      "Epoch 18/40\n"
     ]
    },
    {
     "name": "stdout",
     "output_type": "stream",
     "text": [
      " - 34s - loss: 2.5734 - acc: 0.5297 - val_loss: 4.5592 - val_acc: 0.3368\n"
     ]
    },
    {
     "name": "stdout",
     "output_type": "stream",
     "text": [
      "Epoch 19/40\n"
     ]
    },
    {
     "name": "stdout",
     "output_type": "stream",
     "text": [
      " - 34s - loss: 2.5543 - acc: 0.5346 - val_loss: 4.5646 - val_acc: 0.3355\n"
     ]
    },
    {
     "name": "stdout",
     "output_type": "stream",
     "text": [
      "Epoch 20/40\n"
     ]
    },
    {
     "name": "stdout",
     "output_type": "stream",
     "text": [
      " - 34s - loss: 2.5424 - acc: 0.5377 - val_loss: 4.5619 - val_acc: 0.3395\n"
     ]
    },
    {
     "name": "stdout",
     "output_type": "stream",
     "text": [
      "Epoch 21/40\n"
     ]
    },
    {
     "name": "stdout",
     "output_type": "stream",
     "text": [
      " - 34s - loss: 2.5240 - acc: 0.5417 - val_loss: 4.5561 - val_acc: 0.3466\n"
     ]
    },
    {
     "name": "stdout",
     "output_type": "stream",
     "text": [
      "Epoch 22/40\n"
     ]
    },
    {
     "name": "stdout",
     "output_type": "stream",
     "text": [
      " - 34s - loss: 2.5090 - acc: 0.5455 - val_loss: 4.5647 - val_acc: 0.3466\n"
     ]
    },
    {
     "name": "stdout",
     "output_type": "stream",
     "text": [
      "Epoch 23/40\n"
     ]
    },
    {
     "name": "stdout",
     "output_type": "stream",
     "text": [
      " - 34s - loss: 2.4918 - acc: 0.5506 - val_loss: 4.5661 - val_acc: 0.3438\n"
     ]
    },
    {
     "name": "stdout",
     "output_type": "stream",
     "text": [
      "Epoch 24/40\n"
     ]
    },
    {
     "name": "stdout",
     "output_type": "stream",
     "text": [
      " - 34s - loss: 2.4713 - acc: 0.5553 - val_loss: 4.6207 - val_acc: 0.3405\n"
     ]
    },
    {
     "name": "stdout",
     "output_type": "stream",
     "text": [
      "Epoch 25/40\n"
     ]
    },
    {
     "name": "stdout",
     "output_type": "stream",
     "text": [
      " - 34s - loss: 2.4568 - acc: 0.5586 - val_loss: 4.5957 - val_acc: 0.3457\n"
     ]
    },
    {
     "name": "stdout",
     "output_type": "stream",
     "text": [
      "Epoch 26/40\n"
     ]
    },
    {
     "name": "stdout",
     "output_type": "stream",
     "text": [
      " - 34s - loss: 2.4445 - acc: 0.5622 - val_loss: 4.6037 - val_acc: 0.3459\n"
     ]
    },
    {
     "name": "stdout",
     "output_type": "stream",
     "text": [
      "Epoch 27/40\n"
     ]
    },
    {
     "name": "stdout",
     "output_type": "stream",
     "text": [
      " - 34s - loss: 2.4301 - acc: 0.5672 - val_loss: 4.6526 - val_acc: 0.3344\n"
     ]
    },
    {
     "name": "stdout",
     "output_type": "stream",
     "text": [
      "Epoch 28/40\n"
     ]
    },
    {
     "name": "stdout",
     "output_type": "stream",
     "text": [
      " - 34s - loss: 2.4154 - acc: 0.5697 - val_loss: 4.6441 - val_acc: 0.3397\n"
     ]
    },
    {
     "name": "stdout",
     "output_type": "stream",
     "text": [
      "Epoch 29/40\n"
     ]
    },
    {
     "name": "stdout",
     "output_type": "stream",
     "text": [
      " - 34s - loss: 2.4005 - acc: 0.5737 - val_loss: 4.6382 - val_acc: 0.3405\n"
     ]
    },
    {
     "name": "stdout",
     "output_type": "stream",
     "text": [
      "Epoch 30/40\n"
     ]
    },
    {
     "name": "stdout",
     "output_type": "stream",
     "text": [
      " - 34s - loss: 2.3904 - acc: 0.5773 - val_loss: 4.7190 - val_acc: 0.3299\n"
     ]
    },
    {
     "name": "stdout",
     "output_type": "stream",
     "text": [
      "Epoch 31/40\n"
     ]
    },
    {
     "name": "stdout",
     "output_type": "stream",
     "text": [
      " - 34s - loss: 2.3748 - acc: 0.5812 - val_loss: 4.7180 - val_acc: 0.3317\n"
     ]
    },
    {
     "name": "stdout",
     "output_type": "stream",
     "text": [
      "Epoch 32/40\n"
     ]
    },
    {
     "name": "stdout",
     "output_type": "stream",
     "text": [
      " - 34s - loss: 2.3633 - acc: 0.5848 - val_loss: 4.6920 - val_acc: 0.3370\n"
     ]
    },
    {
     "name": "stdout",
     "output_type": "stream",
     "text": [
      "Epoch 33/40\n"
     ]
    },
    {
     "name": "stdout",
     "output_type": "stream",
     "text": [
      " - 34s - loss: 2.3504 - acc: 0.5892 - val_loss: 4.7463 - val_acc: 0.3270\n"
     ]
    },
    {
     "name": "stdout",
     "output_type": "stream",
     "text": [
      "Epoch 34/40\n"
     ]
    },
    {
     "name": "stdout",
     "output_type": "stream",
     "text": [
      " - 34s - loss: 2.3405 - acc: 0.5930 - val_loss: 4.6882 - val_acc: 0.3309\n"
     ]
    },
    {
     "name": "stdout",
     "output_type": "stream",
     "text": [
      "Epoch 35/40\n"
     ]
    },
    {
     "name": "stdout",
     "output_type": "stream",
     "text": [
      " - 34s - loss: 2.3298 - acc: 0.5936 - val_loss: 4.7171 - val_acc: 0.3319\n"
     ]
    },
    {
     "name": "stdout",
     "output_type": "stream",
     "text": [
      "Epoch 36/40\n"
     ]
    },
    {
     "name": "stdout",
     "output_type": "stream",
     "text": [
      " - 34s - loss: 2.3157 - acc: 0.5990 - val_loss: 4.7530 - val_acc: 0.3332\n"
     ]
    },
    {
     "name": "stdout",
     "output_type": "stream",
     "text": [
      "Epoch 37/40\n"
     ]
    },
    {
     "name": "stdout",
     "output_type": "stream",
     "text": [
      " - 34s - loss: 2.3040 - acc: 0.6009 - val_loss: 4.7515 - val_acc: 0.3299\n"
     ]
    },
    {
     "name": "stdout",
     "output_type": "stream",
     "text": [
      "Epoch 38/40\n"
     ]
    },
    {
     "name": "stdout",
     "output_type": "stream",
     "text": [
      " - 34s - loss: 2.2930 - acc: 0.6049 - val_loss: 4.7530 - val_acc: 0.3326\n"
     ]
    },
    {
     "name": "stdout",
     "output_type": "stream",
     "text": [
      "Epoch 39/40\n"
     ]
    },
    {
     "name": "stdout",
     "output_type": "stream",
     "text": [
      " - 34s - loss: 2.2835 - acc: 0.6069 - val_loss: 4.7506 - val_acc: 0.3354\n"
     ]
    },
    {
     "name": "stdout",
     "output_type": "stream",
     "text": [
      "Epoch 40/40\n"
     ]
    },
    {
     "name": "stdout",
     "output_type": "stream",
     "text": [
      " - 34s - loss: 2.2717 - acc: 0.6111 - val_loss: 4.7728 - val_acc: 0.3354\n"
     ]
    },
    {
     "data": {
      "text/plain": [
       "<keras.callbacks.History at 0x7ef60c98f790>"
      ]
     },
     "execution_count": 27,
     "metadata": {},
     "output_type": "execute_result"
    }
   ],
   "source": [
    "NIC_model.load_weights(\"models/NIC_model6.h5\")\n",
    "NIC_model.fit_generator(generator_train, steps_per_epoch=8000//BATCH_SIZE,\n",
    "                        epochs=40,\n",
    "                        verbose=2, \n",
    "                        validation_data=generator_dev,\n",
    "                        validation_steps=100,\n",
    "                        initial_epoch = 0)\n"
   ]
  },
  {
   "cell_type": "code",
   "execution_count": 28,
   "metadata": {},
   "outputs": [],
   "source": [
    "NIC_model.save_weights(\"models/NIC_model6.h5\")"
   ]
  },
  {
   "cell_type": "code",
   "execution_count": 29,
   "metadata": {},
   "outputs": [],
   "source": [
    "NIC_inference = greedy_inference_model(vocab_size, max_length)\n",
    "NIC_inference.load_weights(\"models/NIC_model6.h5\", by_name = True, skip_mismatch=True)"
   ]
  },
  {
   "cell_type": "code",
   "execution_count": 30,
   "metadata": {},
   "outputs": [
    {
     "name": "stderr",
     "output_type": "stream",
     "text": [
      "\r  0%|          | 0/500 [00:00<?, ?it/s]"
     ]
    },
    {
     "name": "stderr",
     "output_type": "stream",
     "text": [
      "\r  5%|▍         | 23/500 [00:00<00:02, 228.65it/s]"
     ]
    },
    {
     "name": "stderr",
     "output_type": "stream",
     "text": [
      "\r 10%|▉         | 48/500 [00:00<00:01, 232.65it/s]"
     ]
    },
    {
     "name": "stderr",
     "output_type": "stream",
     "text": [
      "\r 15%|█▍        | 73/500 [00:00<00:01, 234.77it/s]"
     ]
    },
    {
     "name": "stderr",
     "output_type": "stream",
     "text": [
      "\r 20%|█▉        | 98/500 [00:00<00:01, 238.14it/s]"
     ]
    },
    {
     "name": "stderr",
     "output_type": "stream",
     "text": [
      "\r 25%|██▍       | 123/500 [00:00<00:01, 239.03it/s]"
     ]
    },
    {
     "name": "stderr",
     "output_type": "stream",
     "text": [
      "\r 30%|██▉       | 148/500 [00:00<00:01, 241.66it/s]"
     ]
    },
    {
     "name": "stderr",
     "output_type": "stream",
     "text": [
      "\r 35%|███▍      | 174/500 [00:00<00:01, 246.00it/s]"
     ]
    },
    {
     "name": "stderr",
     "output_type": "stream",
     "text": [
      "\r 40%|████      | 201/500 [00:00<00:01, 250.34it/s]"
     ]
    },
    {
     "name": "stderr",
     "output_type": "stream",
     "text": [
      "\r 45%|████▌     | 225/500 [00:00<00:01, 245.87it/s]"
     ]
    },
    {
     "name": "stderr",
     "output_type": "stream",
     "text": [
      "\r 50%|████▉     | 249/500 [00:01<00:01, 242.30it/s]"
     ]
    },
    {
     "name": "stderr",
     "output_type": "stream",
     "text": [
      "\r 55%|█████▍    | 274/500 [00:01<00:00, 243.34it/s]"
     ]
    },
    {
     "name": "stderr",
     "output_type": "stream",
     "text": [
      "\r 61%|██████    | 303/500 [00:01<00:00, 254.90it/s]"
     ]
    },
    {
     "name": "stderr",
     "output_type": "stream",
     "text": [
      "\r 66%|██████▌   | 330/500 [00:01<00:00, 258.21it/s]"
     ]
    },
    {
     "name": "stderr",
     "output_type": "stream",
     "text": [
      "\r 71%|███████   | 356/500 [00:01<00:00, 252.01it/s]"
     ]
    },
    {
     "name": "stderr",
     "output_type": "stream",
     "text": [
      "\r 76%|███████▋  | 382/500 [00:01<00:00, 246.87it/s]"
     ]
    },
    {
     "name": "stderr",
     "output_type": "stream",
     "text": [
      "\r 82%|████████▏ | 409/500 [00:01<00:00, 250.90it/s]"
     ]
    },
    {
     "name": "stderr",
     "output_type": "stream",
     "text": [
      "\r 87%|████████▋ | 435/500 [00:01<00:00, 242.84it/s]"
     ]
    },
    {
     "name": "stderr",
     "output_type": "stream",
     "text": [
      "\r 93%|█████████▎| 463/500 [00:01<00:00, 252.12it/s]"
     ]
    },
    {
     "name": "stderr",
     "output_type": "stream",
     "text": [
      "\r 98%|█████████▊| 489/500 [00:01<00:00, 246.61it/s]"
     ]
    },
    {
     "name": "stderr",
     "output_type": "stream",
     "text": [
      "\r100%|██████████| 500/500 [00:02<00:00, 248.57it/s]"
     ]
    },
    {
     "name": "stderr",
     "output_type": "stream",
     "text": [
      "\n"
     ]
    }
   ],
   "source": [
    "test_imgs=[]\n",
    "num_test=500\n",
    "start=8000\n",
    "for j in tqdm(range(start,start+num_test)):\n",
    "    img= load_image( image_name_train[j])\n",
    "    test_imgs.append(img)\n",
    "test_imgs= np.array(test_imgs)\n",
    "test_sentis= np.array(senti_train[start:start+num_test])\n",
    "test_sequences= np.array(cap_vector_train[start:start+num_test])\n",
    "# test_seq= np.ones(shape=(500,1))\n",
    "# test_seq= 3* test_seq\n",
    "# test_out=[]\n"
   ]
  },
  {
   "cell_type": "code",
   "execution_count": 31,
   "metadata": {},
   "outputs": [
    {
     "name": "stdout",
     "output_type": "stream",
     "text": [
      "\r 32/500 [>.............................] - ETA: 55s"
     ]
    },
    {
     "name": "stdout",
     "output_type": "stream",
     "text": [
      "\b\b\b\b\b\b\b\b\b\b\b\b\b\b\b\b\b\b\b\b\b\b\b\b\b\b\b\b\b\b\b\b\b\b\b\b\b\b\b\b\b\b\b\b\b\b\b\b\b\b\b\r 64/500 [==>...........................] - ETA: 26s"
     ]
    },
    {
     "name": "stdout",
     "output_type": "stream",
     "text": [
      "\b\b\b\b\b\b\b\b\b\b\b\b\b\b\b\b\b\b\b\b\b\b\b\b\b\b\b\b\b\b\b\b\b\b\b\b\b\b\b\b\b\b\b\b\b\b\b\b\b\b\b\r 96/500 [====>.........................] - ETA: 16s"
     ]
    },
    {
     "name": "stdout",
     "output_type": "stream",
     "text": [
      "\b\b\b\b\b\b\b\b\b\b\b\b\b\b\b\b\b\b\b\b\b\b\b\b\b\b\b\b\b\b\b\b\b\b\b\b\b\b\b\b\b\b\b\b\b\b\b\b\b\b\b\r128/500 [======>.......................] - ETA: 11s"
     ]
    },
    {
     "name": "stdout",
     "output_type": "stream",
     "text": [
      "\b\b\b\b\b\b\b\b\b\b\b\b\b\b\b\b\b\b\b\b\b\b\b\b\b\b\b\b\b\b\b\b\b\b\b\b\b\b\b\b\b\b\b\b\b\b\b\b\b\b\b\r160/500 [========>.....................] - ETA: 8s "
     ]
    },
    {
     "name": "stdout",
     "output_type": "stream",
     "text": [
      "\b\b\b\b\b\b\b\b\b\b\b\b\b\b\b\b\b\b\b\b\b\b\b\b\b\b\b\b\b\b\b\b\b\b\b\b\b\b\b\b\b\b\b\b\b\b\b\b\b\b\r192/500 [==========>...................] - ETA: 6s"
     ]
    },
    {
     "name": "stdout",
     "output_type": "stream",
     "text": [
      "\b\b\b\b\b\b\b\b\b\b\b\b\b\b\b\b\b\b\b\b\b\b\b\b\b\b\b\b\b\b\b\b\b\b\b\b\b\b\b\b\b\b\b\b\b\b\b\b\b\b\r224/500 [============>.................] - ETA: 5s"
     ]
    },
    {
     "name": "stdout",
     "output_type": "stream",
     "text": [
      "\b\b\b\b\b\b\b\b\b\b\b\b\b\b\b\b\b\b\b\b\b\b\b\b\b\b\b\b\b\b\b\b\b\b\b\b\b\b\b\b\b\b\b\b\b\b\b\b\b\b\r256/500 [==============>...............] - ETA: 4s"
     ]
    },
    {
     "name": "stdout",
     "output_type": "stream",
     "text": [
      "\b\b\b\b\b\b\b\b\b\b\b\b\b\b\b\b\b\b\b\b\b\b\b\b\b\b\b\b\b\b\b\b\b\b\b\b\b\b\b\b\b\b\b\b\b\b\b\b\b\b\r288/500 [================>.............] - ETA: 3s"
     ]
    },
    {
     "name": "stdout",
     "output_type": "stream",
     "text": [
      "\b\b\b\b\b\b\b\b\b\b\b\b\b\b\b\b\b\b\b\b\b\b\b\b\b\b\b\b\b\b\b\b\b\b\b\b\b\b\b\b\b\b\b\b\b\b\b\b\b\b\r320/500 [==================>...........] - ETA: 2s"
     ]
    },
    {
     "name": "stdout",
     "output_type": "stream",
     "text": [
      "\b\b\b\b\b\b\b\b\b\b\b\b\b\b\b\b\b\b\b\b\b\b\b\b\b\b\b\b\b\b\b\b\b\b\b\b\b\b\b\b\b\b\b\b\b\b\b\b\b\b\r352/500 [====================>.........] - ETA: 1s"
     ]
    },
    {
     "name": "stdout",
     "output_type": "stream",
     "text": [
      "\b\b\b\b\b\b\b\b\b\b\b\b\b\b\b\b\b\b\b\b\b\b\b\b\b\b\b\b\b\b\b\b\b\b\b\b\b\b\b\b\b\b\b\b\b\b\b\b\b\b\r384/500 [======================>.......] - ETA: 1s"
     ]
    },
    {
     "name": "stdout",
     "output_type": "stream",
     "text": [
      "\b\b\b\b\b\b\b\b\b\b\b\b\b\b\b\b\b\b\b\b\b\b\b\b\b\b\b\b\b\b\b\b\b\b\b\b\b\b\b\b\b\b\b\b\b\b\b\b\b\b\r416/500 [=======================>......] - ETA: 0s"
     ]
    },
    {
     "name": "stdout",
     "output_type": "stream",
     "text": [
      "\b\b\b\b\b\b\b\b\b\b\b\b\b\b\b\b\b\b\b\b\b\b\b\b\b\b\b\b\b\b\b\b\b\b\b\b\b\b\b\b\b\b\b\b\b\b\b\b\b\b\r448/500 [=========================>....] - ETA: 0s"
     ]
    },
    {
     "name": "stdout",
     "output_type": "stream",
     "text": [
      "\b\b\b\b\b\b\b\b\b\b\b\b\b\b\b\b\b\b\b\b\b\b\b\b\b\b\b\b\b\b\b\b\b\b\b\b\b\b\b\b\b\b\b\b\b\b\b\b\b\b\r480/500 [===========================>..] - ETA: 0s"
     ]
    },
    {
     "name": "stdout",
     "output_type": "stream",
     "text": [
      "\b\b\b\b\b\b\b\b\b\b\b\b\b\b\b\b\b\b\b\b\b\b\b\b\b\b\b\b\b\b\b\b\b\b\b\b\b\b\b\b\b\b\b\b\b\b\b\b\b\b\r500/500 [==============================] - 6s 11ms/step\n"
     ]
    }
   ],
   "source": [
    "N = test_imgs.shape[0]\n",
    "\n",
    "startseq = np.repeat([tokenizer.word_index['<start>']], N)\n",
    "a0 = np.zeros([N, units])\n",
    "c0 = np.zeros([N, units])\n",
    "\n",
    "# output dims: [32, N, 7378]\n",
    "y_preds = np.array(NIC_inference.predict([test_imgs, startseq,test_sentis, a0, c0], verbose = 1))\n",
    "\n",
    "# output dims: [N, 32, 7378]\n",
    "y_preds = np.transpose(y_preds, axes = [1,0,2])\n",
    "\n",
    "sequences = np.argmax(y_preds, axis = -1)\n",
    "sents = tokenizer.sequences_to_texts(sequences)\n",
    "\n",
    "# if post_process:\n",
    "    # post processing: 'endseq'\n",
    "sents_pp = []\n",
    "for sent in sents:\n",
    "    if '<end>' in sent.split():\n",
    "        words = sent.split()\n",
    "        sents_pp.append(' '.join(words[:words.index('<end>')]))\n",
    "    else:\n",
    "        sents_pp.append(sent)\n",
    "sents = sents_pp\n"
   ]
  },
  {
   "cell_type": "code",
   "execution_count": 32,
   "metadata": {},
   "outputs": [
    {
     "name": "stdout",
     "output_type": "stream",
     "text": [
      "['a group of people walk down a beautiful street', 'a man is sitting on a bench next to a beautiful tree', 'a man is sitting on a bench next to a beautiful tree', 'a man is sitting on a bench next to a beautiful tree', 'a man is riding a skateboard down the sidewalk next to a beautiful tree', 'a man is riding a skateboard down the sidewalk next to a beautiful tree', 'a man is riding a skateboard down the sidewalk next to a beautiful tree', 'a person on a ski slope in the beautiful snow', 'a person on a ski slope in the beautiful snow', 'a person on a ski slope in the beautiful snow', 'a group of people walk down a beautiful street', 'a group of people walk down a beautiful street', 'a group of people walk down a beautiful street', 'a group of people walk down a beautiful street', 'a group of people walk down a beautiful street', 'a group of people walk down a beautiful street', 'a couple of stupid people walk down a street in a city city', 'a couple of stupid people walk down a street in a city city', 'a couple of stupid people walk down a street in a city city', 'a man is riding a skateboard down the middle of a cold mountain', 'a man is riding a skateboard down the middle of a cold mountain', 'a man is riding a skateboard down the middle of a cold mountain', 'a man is riding a skateboard down the middle of a dangerous road', 'a man is riding a skateboard down the middle of a dangerous road', 'a man is riding a skateboard down the middle of a dangerous road', 'a man is riding a skateboard down the cold air', 'a man is riding a skateboard down the cold air', 'a man is riding a skateboard down the cold air', 'a man is riding a skateboard down the middle of a dangerous road', 'a man is riding a skateboard down the middle of a dangerous road', 'a man is riding a skateboard down the middle of a dangerous road', 'a man is riding a skateboard down the lonely street', 'a man is riding a skateboard down the lonely street', 'a man is riding a skateboard down the lonely street', 'a man is riding a skateboard down the middle of a beautiful street', 'a man is riding a skateboard down the middle of a beautiful street', 'a man is riding a skateboard down the middle of a beautiful street', 'a man is riding a skateboard down the middle of a beautiful street', 'a man is riding a skateboard down the middle of a beautiful street', 'a man is riding a skateboard down the middle of a beautiful street', 'a group of people walk down a beautiful street', 'a group of people walk down a beautiful street', 'a group of people walk down a beautiful street', 'a man is riding a ski down the middle of a beautiful snow', 'a man is riding a ski down the middle of a beautiful snow', 'a man is riding a ski down the middle of a beautiful snow', 'a person is riding a skateboard down the middle of a dangerous road', 'a person is riding a skateboard down the middle of a dangerous road', 'a person is riding a skateboard down the middle of a dangerous road', 'a group of people walk down a beautiful street', 'a group of people walk down a beautiful street', 'a group of people walk down a beautiful street', 'a man is riding a skateboard down the sidewalk next to a beautiful tree', 'a man is riding a skateboard down the sidewalk next to a beautiful tree', 'a man is riding a skateboard down the sidewalk next to a beautiful tree', 'a group of people walk down a beautiful street', 'a group of people walk down a beautiful street', 'a group of people walk down a beautiful street', 'a group of people walk down a beautiful street', 'a group of people walk down a beautiful street', 'a group of people walk down a beautiful street', 'a person riding a skateboard down the middle of a dangerous road', 'a person riding a skateboard down the middle of a dangerous road', 'a person riding a skateboard down the middle of a dangerous road', 'a man is riding a skateboard down the middle of a lonely street', 'a man is riding a skateboard down the middle of a lonely street', 'a man is riding a skateboard down the middle of a lonely street', 'a group of people walk down a beautiful street', 'a group of people walk down a beautiful street', 'a group of people walk down a beautiful street', 'a group of people walk down a beautiful street', 'a group of people walk down a beautiful street', 'a group of people walk down a beautiful street', 'a man is riding a skateboard down the middle of a cold mountain', 'a man is riding a skateboard down the middle of a cold mountain', 'a man is riding a skateboard down the middle of a cold mountain', 'a man is riding a skateboard down the wrong side of a street', 'a man is riding a skateboard down the wrong side of a street', 'a man is riding a skateboard down the wrong side of a street', 'a man on a skateboard down a lonely street', 'a man on a skateboard down a lonely street', 'a man on a skateboard down a lonely street', 'a group of people walk down a beautiful street', 'a group of people walk down a beautiful street', 'a group of people walk down a beautiful street', 'a group of people walk down a lonely street', 'a group of people walk down a lonely street', 'a group of people walk down a lonely street', 'a man is riding a skateboard down the middle of a dangerous road', 'a man is riding a skateboard down the middle of a cold mountain', 'a man is riding a skateboard down the middle of a cold mountain', 'a man is riding a skateboard down the middle of a cold mountain', 'a man is riding a skateboard down the middle of a cold mountain', 'a man is riding a skateboard down the middle of a cold mountain', 'a man is riding a skateboard down the middle of a lonely street', 'a man is riding a skateboard down the middle of a lonely street', 'a man is riding a skateboard down the middle of a lonely street', 'a group of people walk down a lonely street', 'a group of people walk down a lonely street', 'a group of people walk down a lonely street']\n"
     ]
    }
   ],
   "source": [
    "print(sents[400:])"
   ]
  },
  {
   "cell_type": "code",
   "execution_count": 19,
   "metadata": {},
   "outputs": [
    {
     "name": "stderr",
     "output_type": "stream",
     "text": [
      "WARNING: Logging before flag parsing goes to stderr.\nW1005 22:46:31.953823 139620787283776 deprecation_wrapper.py:119] From /home/yiyang/anaconda3/envs/caption/lib/python3.7/site-packages/keras/backend/tensorflow_backend.py:74: The name tf.get_default_graph is deprecated. Please use tf.compat.v1.get_default_graph instead.\n\n"
     ]
    },
    {
     "name": "stderr",
     "output_type": "stream",
     "text": [
      "W1005 22:46:31.967643 139620787283776 deprecation_wrapper.py:119] From /home/yiyang/anaconda3/envs/caption/lib/python3.7/site-packages/keras/backend/tensorflow_backend.py:517: The name tf.placeholder is deprecated. Please use tf.compat.v1.placeholder instead.\n\n"
     ]
    },
    {
     "name": "stderr",
     "output_type": "stream",
     "text": [
      "W1005 22:46:31.969490 139620787283776 deprecation_wrapper.py:119] From /home/yiyang/anaconda3/envs/caption/lib/python3.7/site-packages/keras/backend/tensorflow_backend.py:4138: The name tf.random_uniform is deprecated. Please use tf.random.uniform instead.\n\n"
     ]
    },
    {
     "name": "stderr",
     "output_type": "stream",
     "text": [
      "W1005 22:46:31.979786 139620787283776 deprecation_wrapper.py:119] From /home/yiyang/anaconda3/envs/caption/lib/python3.7/site-packages/keras/backend/tensorflow_backend.py:174: The name tf.get_default_session is deprecated. Please use tf.compat.v1.get_default_session instead.\n\n"
     ]
    },
    {
     "name": "stderr",
     "output_type": "stream",
     "text": [
      "W1005 22:46:31.980213 139620787283776 deprecation_wrapper.py:119] From /home/yiyang/anaconda3/envs/caption/lib/python3.7/site-packages/keras/backend/tensorflow_backend.py:181: The name tf.ConfigProto is deprecated. Please use tf.compat.v1.ConfigProto instead.\n\n"
     ]
    },
    {
     "name": "stderr",
     "output_type": "stream",
     "text": [
      "W1005 22:46:32.558979 139620787283776 deprecation_wrapper.py:119] From /home/yiyang/anaconda3/envs/caption/lib/python3.7/site-packages/keras/backend/tensorflow_backend.py:1834: The name tf.nn.fused_batch_norm is deprecated. Please use tf.compat.v1.nn.fused_batch_norm instead.\n\n"
     ]
    },
    {
     "name": "stderr",
     "output_type": "stream",
     "text": [
      "W1005 22:46:32.663625 139620787283776 deprecation_wrapper.py:119] From /home/yiyang/anaconda3/envs/caption/lib/python3.7/site-packages/keras/backend/tensorflow_backend.py:3976: The name tf.nn.max_pool is deprecated. Please use tf.nn.max_pool2d instead.\n\n"
     ]
    },
    {
     "name": "stderr",
     "output_type": "stream",
     "text": [
      "W1005 22:46:32.962079 139620787283776 deprecation_wrapper.py:119] From /home/yiyang/anaconda3/envs/caption/lib/python3.7/site-packages/keras/backend/tensorflow_backend.py:3980: The name tf.nn.avg_pool is deprecated. Please use tf.nn.avg_pool2d instead.\n\n"
     ]
    }
   ],
   "source": [
    "base_model = InceptionV3(include_top=True, weights=None)\n",
    "weights_path = 'data/image_net.h5'\n",
    "# image_model = tf.keras.applications.InceptionV3(include_top=False,\n",
    "#                                                 weights='imagenet')\n",
    "base_model.load_weights(weights_path)\n",
    "# print(base_model.output_shape)\n",
    "for layer in base_model.layers[:312]:\n",
    "    layer.trainable = False\n",
    "\n",
    "new_input = base_model.layers[0].input\n",
    "hidden_layer = base_model.get_layer('avg_pool').output\n",
    "\n",
    "image_model = Model(new_input, hidden_layer)\n",
    "\n",
    "    "
   ]
  },
  {
   "cell_type": "code",
   "execution_count": null,
   "metadata": {},
   "outputs": [],
   "source": [
    "cv2.destroyAllWindows()"
   ]
  },
  {
   "cell_type": "code",
   "execution_count": 20,
   "metadata": {},
   "outputs": [
    {
     "name": "stdout",
     "output_type": "stream",
     "text": [
      "/home/yiyang/project/caption/caption/data/train2014/COCO_train2014_000000134754.jpg\ntwo people carrying surf boards on a beach\n"
     ]
    }
   ],
   "source": [
    "img_num=14\n",
    " \n",
    "print(img_name_vector[img_num])\n",
    "# img=load_image(image_name_train[0])\n",
    "img=cv2.imread(img_name_vector[img_num]) \n",
    "print(train_captions[img_num])\n",
    "# img=cv2.imshow('image',img)\n",
    "cv2.imshow('ImageWindow', img)\n",
    "cv2.waitKey(0)\n",
    "cv2.destroyAllWindows()\n",
    "\n",
    " "
   ]
  },
  {
   "cell_type": "code",
   "execution_count": 21,
   "metadata": {},
   "outputs": [],
   "source": [
    "test_img= cv2.resize(img,(299,299))\n",
    "test_imgs= [test_img]\n",
    "test_imgs= np.array(test_imgs)\n",
    "img_out= image_model.predict(test_imgs)\n",
    "cv2.imshow('ImageWindow', img_out)\n",
    "cv2.waitKey(0)\n",
    "cv2.destroyAllWindows()\n"
   ]
  },
  {
   "cell_type": "code",
   "execution_count": 22,
   "metadata": {},
   "outputs": [
    {
     "name": "stdout",
     "output_type": "stream",
     "text": [
      "[[1.9343214  0.91180134 7.80577    ... 0.         0.         3.933108  ]]\n"
     ]
    }
   ],
   "source": [
    "print(img_out)"
   ]
  },
  {
   "cell_type": "code",
   "execution_count": null,
   "metadata": {},
   "outputs": [],
   "source": []
  }
 ],
 "metadata": {
  "kernelspec": {
   "display_name": "Python 2",
   "language": "python",
   "name": "python2"
  },
  "language_info": {
   "codemirror_mode": {
    "name": "ipython",
    "version": 2
   },
   "file_extension": ".py",
   "mimetype": "text/x-python",
   "name": "python",
   "nbconvert_exporter": "python",
   "pygments_lexer": "ipython2",
   "version": "2.7.6"
  }
 },
 "nbformat": 4,
 "nbformat_minor": 0
}
